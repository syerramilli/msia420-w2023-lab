{
 "cells": [
  {
   "cell_type": "code",
   "execution_count": 1,
   "metadata": {},
   "outputs": [],
   "source": [
    "# Import libraries\n",
    "import os\n",
    "import numpy as np\n",
    "import pandas as pd\n",
    "import matplotlib.pyplot as plt\n",
    "import statsmodels.api as sm\n",
    "import seaborn as sns\n",
    "from scipy.optimize import minimize,curve_fit\n",
    "\n",
    "# Magic command Needed for showing plots in jupyter notebooks\n",
    "%matplotlib inline"
   ]
  },
  {
   "cell_type": "code",
   "execution_count": 2,
   "metadata": {},
   "outputs": [],
   "source": [
    "# Adjust plot dpi and other graphical parameters\n",
    "plt.rcParams.update(**{\n",
    "    'figure.dpi':150,\n",
    "    'figure.figsize':(4,3)\n",
    "})"
   ]
  },
  {
   "cell_type": "markdown",
   "metadata": {},
   "source": [
    "# 1. Linear regression on autompg dataset\n",
    "\n",
    "The `autompg` dataset concerns city-cycle fuel consumption in miles per gallon, to be predicted in terms of 3 multivalued discrete and 5 continuous attributes. There are 398 instances.\n",
    "\n",
    "**Attribute information**:\n",
    "\n",
    "    1. mpg:           continuous\n",
    "    2. cylinders:     multi-valued discrete\n",
    "    3. displacement:  continuous\n",
    "    4. horsepower:    continuous\n",
    "    5. weight:        continuous\n",
    "    6. acceleration:  continuous\n",
    "    7. model year:    multi-valued discrete\n",
    "    8. origin:        multi-valued discrete\n",
    "    9. car name:      string (unique for each instance)\n",
    "    \n",
    "There are 6 missing entries for `horsepower`, indicated in the file as  `?`. \n",
    "\n",
    "In the following code block,\n",
    "\n",
    "1. The data is loaded from disk.\n",
    "2. Rows with missing data are dropped\n",
    "3. Redundant columns are deleted\n",
    "4. The output is extracted into variable `y`\n",
    "5. The predictors are extracted into variable `X` and standardized."
   ]
  },
  {
   "cell_type": "code",
   "execution_count": 3,
   "metadata": {
    "scrolled": true
   },
   "outputs": [],
   "source": [
    "# read autompg data - replace filedir with the actual location\n",
    "FILEDIR = '../data'\n",
    "auto = pd.read_csv(\n",
    "    os.path.join(FILEDIR,'auto-mpg.csv'),\n",
    "    na_values = '?' # needed to mark these entries as missing\n",
    ")\n",
    "\n",
    "# drop missing values\n",
    "# axis = 0 - drop \n",
    "auto = auto.dropna(axis=0)\n",
    "\n",
    "# car name is unique for each instance\n",
    "# deleting the column\n",
    "del auto['car name']\n",
    "\n",
    "\n",
    "# preparing data for linear regression\n",
    "# extract output\n",
    "y = auto['mpg']\n",
    "\n",
    "# standardizing columns in order to directly compare coefficients\n",
    "X = auto.drop('mpg',axis=1)\n",
    "X_mean,X_std = X.mean(axis=0),X.std(axis=0)\n",
    "X = (X-X_mean)/X_std"
   ]
  },
  {
   "cell_type": "markdown",
   "metadata": {},
   "source": [
    "(a) Fit a linear regression model for predicting mileage (`mpg`) as a function of the other variables. Use the `sm.OLS` class (with arguments `y` and `X`) from the statsmodels library. Print the summary of the model.\n",
    "\n",
    "(b) Plot the residuals vs the fitted values. Do you notice anything? The residuals can be extracted through the `.resid` attribute of the `OLS` object.\n",
    "\n",
    "**Note**: `OLS` fits a model without the intercept term. "
   ]
  },
  {
   "cell_type": "code",
   "execution_count": 5,
   "metadata": {},
   "outputs": [
    {
     "name": "stdout",
     "output_type": "stream",
     "text": [
      "                            OLS Regression Results                            \n",
      "==============================================================================\n",
      "Dep. Variable:                    mpg   R-squared:                       0.821\n",
      "Model:                            OLS   Adj. R-squared:                  0.818\n",
      "Method:                 Least Squares   F-statistic:                     252.4\n",
      "Date:                Wed, 11 Jan 2023   Prob (F-statistic):          2.04e-139\n",
      "Time:                        11:56:29   Log-Likelihood:                -1023.5\n",
      "No. Observations:                 392   AIC:                             2063.\n",
      "Df Residuals:                     384   BIC:                             2095.\n",
      "Df Model:                           7                                         \n",
      "Covariance Type:            nonrobust                                         \n",
      "================================================================================\n",
      "                   coef    std err          t      P>|t|      [0.025      0.975]\n",
      "--------------------------------------------------------------------------------\n",
      "const           23.4459      0.168    139.498      0.000      23.115      23.776\n",
      "cylinders       -0.8416      0.551     -1.526      0.128      -1.926       0.243\n",
      "displacement     2.0820      0.786      2.647      0.008       0.536       3.628\n",
      "horsepower      -0.6525      0.531     -1.230      0.220      -1.696       0.391\n",
      "weight          -5.4991      0.554     -9.929      0.000      -6.588      -4.410\n",
      "acceleration     0.2223      0.273      0.815      0.415      -0.314       0.758\n",
      "model year       2.7656      0.188     14.729      0.000       2.396       3.135\n",
      "origin           1.1488      0.224      5.127      0.000       0.708       1.589\n",
      "==============================================================================\n",
      "Omnibus:                       31.906   Durbin-Watson:                   1.309\n",
      "Prob(Omnibus):                  0.000   Jarque-Bera (JB):               53.100\n",
      "Skew:                           0.529   Prob(JB):                     2.95e-12\n",
      "Kurtosis:                       4.460   Cond. No.                         11.7\n",
      "==============================================================================\n",
      "\n",
      "Warnings:\n",
      "[1] Standard Errors assume that the covariance matrix of the errors is correctly specified.\n"
     ]
    }
   ],
   "source": [
    "#### YOUR CODE GOES HERE #####\n",
    "X = sm.add_constant(X,prepend=True)\n",
    "\n",
    "fit_lm = sm.OLS(y,X).fit()\n",
    "print(fit_lm.summary())"
   ]
  },
  {
   "cell_type": "code",
   "execution_count": 6,
   "metadata": {},
   "outputs": [
    {
     "data": {
      "text/plain": [
       "<AxesSubplot:>"
      ]
     },
     "execution_count": 6,
     "metadata": {},
     "output_type": "execute_result"
    },
    {
     "data": {
      "image/png": "[encoded data removed]",
      "text/plain": [
       "<Figure size 600x450 with 1 Axes>"
      ]
     },
     "metadata": {
      "needs_background": "light"
     },
     "output_type": "display_data"
    }
   ],
   "source": [
    "#### Plot code ####\n",
    "resid = fit_lm.resid\n",
    "\n",
    "fitted = fit_lm.fittedvalues\n",
    "fitted = y-resid\n",
    "\n",
    "fig,ax = plt.subplots(1,1)\n",
    "sns.scatterplot(\n",
    "    x = fitted,\n",
    "    y = resid,\n",
    "    ax=ax\n",
    ")"
   ]
  },
  {
   "cell_type": "markdown",
   "metadata": {},
   "source": [
    "# 2. Non-linear regression\n",
    "\n",
    "\n",
    "Consider the following generated data:"
   ]
  },
  {
   "cell_type": "code",
   "execution_count": 7,
   "metadata": {},
   "outputs": [
    {
     "data": {
      "image/png": "[encoded data removed]",
      "text/plain": [
       "<Figure size 600x450 with 1 Axes>"
      ]
     },
     "metadata": {
      "needs_background": "light"
     },
     "output_type": "display_data"
    }
   ],
   "source": [
    "np.random.seed(11)\n",
    "x = np.linspace(0,4,30)\n",
    "y = 0.5*x + 2*np.sin(2.5*x) + 0.5*np.random.randn(x.shape[0])\n",
    "\n",
    "fig,ax = plt.subplots(1,1)\n",
    "_ = sns.scatterplot(x=x,y=y,ax=ax)"
   ]
  },
  {
   "cell_type": "markdown",
   "metadata": {},
   "source": [
    "Fit the following model to this data:\n",
    "\n",
    "$$\n",
    "\\widehat{y}\\left(x,\\theta \\right) = \\theta_0 + \\theta_1 x  + \\theta_3 \\sin \\left(\\theta_2 x\\right)\n",
    "$$\n",
    "\n",
    "using (a) general non-linear minimization (b) least squares algorithm. For each case, print the final values of the parameters.\n",
    "\n",
    "Start from the initial guess $\\boldsymbol{\\theta} = [1,0.3,2,1.5]$."
   ]
  },
  {
   "cell_type": "code",
   "execution_count": 10,
   "metadata": {},
   "outputs": [
    {
     "data": {
      "text/plain": [
       "      fun: 6.0761543111080405\n",
       " hess_inv: array([[ 0.06846039, -0.02559877, -0.00157079, -0.01040862],\n",
       "       [-0.02559877,  0.01312168,  0.00131071,  0.00207018],\n",
       "       [-0.00157079,  0.00131071,  0.00137434, -0.00022721],\n",
       "       [-0.01040862,  0.00207018, -0.00022721,  0.0381792 ]])\n",
       "      jac: array([-5.96046448e-08, -1.19209290e-07, -4.17232513e-07, -1.19209290e-07])\n",
       "  message: 'Optimization terminated successfully.'\n",
       "     nfev: 78\n",
       "      nit: 10\n",
       "     njev: 13\n",
       "   status: 0\n",
       "  success: True\n",
       "        x: array([-0.20958212,  0.60274236,  2.52467224,  2.05967246])"
      ]
     },
     "execution_count": 10,
     "metadata": {},
     "output_type": "execute_result"
    }
   ],
   "source": [
    "#### CODE FOR NLM ####\n",
    "def model(x,theta):\n",
    "    return theta[0] + theta[1]*x + theta[3]*np.sin(theta[2]*x)\n",
    "\n",
    "\n",
    "def sse(theta,x,y):\n",
    "    yhat = model(x,theta)\n",
    "    return np.sum((y-yhat)**2)\n",
    "\n",
    "\n",
    "\n",
    "res = minimize(\n",
    "    fun = sse,\n",
    "    x0 = np.array([1,0.3,2,1.5]),\n",
    "    args= (x,y)\n",
    ")\n",
    "\n",
    "res"
   ]
  },
  {
   "cell_type": "code",
   "execution_count": 11,
   "metadata": {},
   "outputs": [
    {
     "data": {
      "text/plain": [
       "array([-0.20958212,  0.60274236,  2.52467224,  2.05967246])"
      ]
     },
     "execution_count": 11,
     "metadata": {},
     "output_type": "execute_result"
    }
   ],
   "source": [
    "res.x"
   ]
  },
  {
   "cell_type": "code",
   "execution_count": 12,
   "metadata": {},
   "outputs": [],
   "source": [
    "#### CODE FOR NLS ####\n",
    "def model_nls(x,*theta):\n",
    "    return model(x,theta)\n",
    "\n",
    "theta_nls,cov_theta_nls = curve_fit(\n",
    "    f = model_nls, # the model to be fit to data \n",
    "    xdata = x,\n",
    "    ydata = y,\n",
    "    p0 = np.array([1,0.3,2,1.5]), # initial guess\n",
    ")"
   ]
  },
  {
   "cell_type": "code",
   "execution_count": 13,
   "metadata": {},
   "outputs": [
    {
     "data": {
      "text/plain": [
       "array([-0.20958311,  0.60274318,  2.5246731 ,  2.05967232])"
      ]
     },
     "execution_count": 13,
     "metadata": {},
     "output_type": "execute_result"
    }
   ],
   "source": [
    "theta_nls"
   ]
  },
  {
   "cell_type": "code",
   "execution_count": null,
   "metadata": {},
   "outputs": [],
   "source": []
  }
 ],
 "metadata": {
  "kernelspec": {
   "display_name": "msia420-2",
   "language": "python",
   "name": "msia420-2"
  },
  "language_info": {
   "codemirror_mode": {
    "name": "ipython",
    "version": 3
   },
   "file_extension": ".py",
   "mimetype": "text/x-python",
   "name": "python",
   "nbconvert_exporter": "python",
   "pygments_lexer": "ipython3",
   "version": "3.7.4"
  }
 },
 "nbformat": 4,
 "nbformat_minor": 2
}
