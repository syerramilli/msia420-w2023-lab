{
 "cells": [
  {
   "cell_type": "markdown",
   "metadata": {},
   "source": [
    "# Introduction\n",
    "\n",
    "We will be covering Python implementations of most of the topics discussed in class. Jupyter notebooks will be the primary mode for demonstrations. I will also be using Python scripts for writing functions. In this notebook, we will setup a conda environment for the class and cover a simple logistic regression example.\n",
    "\n",
    "\n",
    "There are couple of things to keep in mind when switching from R to Python:\n",
    "\n",
    "1. Indexing: \n",
    "    - Indexing begins from 0 instead of 1.\n",
    "    - Python also supports negative indexing, i.e. indexing from the rear.\n",
    "    ```Python\n",
    "    # List with 5 elements\n",
    "    l = [1,2.0,3.5,4.6,7.8]\n",
    "    \n",
    "    print(l[0]) # first element - 1\n",
    "    print(l[1]) # second element - 2.0\n",
    "    \n",
    "    # negative indexing \n",
    "    print(l[-1]) # last element - 7.8\n",
    "    print(l[-3]) # third element from the end - 3.5\n",
    "    ```\n",
    "    \n",
    "2. Indentation: Instead of curly brackets {}, indents are used to demarcate blocks. For example, nested for loops:\n",
    "\n",
    "**R**:\n",
    "\n",
    "```R\n",
    "for (i in 0:9) {\n",
    "for(j in 0:2){\n",
    "    if (i<j){\n",
    "    sprintf(\"%d < %d\",i,j)\n",
    "    }\n",
    "}\n",
    "}\n",
    "```\n",
    "\n",
    "**Python**:\n",
    "```Python\n",
    "for i in range(10):\n",
    "    for j in range(3):\n",
    "        if i<j:\n",
    "            print(\"%d < %d\" %(i,j))\n",
    "```\n",
    "\n",
    "\n",
    "## Overview of libraries\n",
    "\n",
    "| Purpose                  | Libraries                      |\n",
    "|:-------------------------|:-------------------------------|\n",
    "| Data storage             | numpy, pandas                  |\n",
    "| Random number generation | numpy, scipy                   |\n",
    "| Statistical functions    | numpy, scipy                   |\n",
    "| Plots                    | matplotlib, seaborn, alepython |\n",
    "| Models                   | statsmodels, scikit-learn      |\n",
    "| Modeling utilites        | scikit-learn                   |\n",
    "\n",
    "\n",
    "# Logistic regression (Car marketing study)\n",
    "\n",
    "Notes 1 slide 6\n",
    "\n",
    "The data in `Car.csv` are car purchasing behavior for n = 33 households from a marketing survey. The response is binary (1 if a household purchased a car; 0 otherwise). We will be using the `statsmodels` library to train a logistic regression model.\n",
    "\n",
    "**Attribute information**:\n",
    "    \n",
    "    1. y: Binary response variable\n",
    "    2. income: Household income (thousands)\n",
    "    3. car_age: Age of oldest automobile"
   ]
  },
  {
   "cell_type": "code",
   "execution_count": 1,
   "metadata": {},
   "outputs": [],
   "source": [
    "# Import libraries\n",
    "import os\n",
    "import numpy as np\n",
    "import pandas as pd\n",
    "import matplotlib.pyplot as plt\n",
    "import statsmodels.api as sm\n",
    "import seaborn as sns\n",
    "\n",
    "# Magic command Needed for showing plots in jupyter notebooks\n",
    "%matplotlib inline"
   ]
  },
  {
   "cell_type": "code",
   "execution_count": 2,
   "metadata": {},
   "outputs": [],
   "source": [
    "# Adjust plot dpi and other graphical parameters\n",
    "plt.rcParams['figure.dpi'] = 150"
   ]
  },
  {
   "cell_type": "code",
   "execution_count": 3,
   "metadata": {},
   "outputs": [
    {
     "data": {
      "text/html": [
       "<div>\n",
       "<style scoped>\n",
       "    .dataframe tbody tr th:only-of-type {\n",
       "        vertical-align: middle;\n",
       "    }\n",
       "\n",
       "    .dataframe tbody tr th {\n",
       "        vertical-align: top;\n",
       "    }\n",
       "\n",
       "    .dataframe thead th {\n",
       "        text-align: right;\n",
       "    }\n",
       "</style>\n",
       "<table border=\"1\" class=\"dataframe\">\n",
       "  <thead>\n",
       "    <tr style=\"text-align: right;\">\n",
       "      <th></th>\n",
       "      <th>y</th>\n",
       "      <th>income</th>\n",
       "      <th>car_age</th>\n",
       "    </tr>\n",
       "  </thead>\n",
       "  <tbody>\n",
       "    <tr>\n",
       "      <td>0</td>\n",
       "      <td>0</td>\n",
       "      <td>32</td>\n",
       "      <td>3</td>\n",
       "    </tr>\n",
       "    <tr>\n",
       "      <td>1</td>\n",
       "      <td>0</td>\n",
       "      <td>45</td>\n",
       "      <td>2</td>\n",
       "    </tr>\n",
       "    <tr>\n",
       "      <td>2</td>\n",
       "      <td>1</td>\n",
       "      <td>60</td>\n",
       "      <td>2</td>\n",
       "    </tr>\n",
       "    <tr>\n",
       "      <td>3</td>\n",
       "      <td>0</td>\n",
       "      <td>53</td>\n",
       "      <td>1</td>\n",
       "    </tr>\n",
       "    <tr>\n",
       "      <td>4</td>\n",
       "      <td>0</td>\n",
       "      <td>25</td>\n",
       "      <td>4</td>\n",
       "    </tr>\n",
       "  </tbody>\n",
       "</table>\n",
       "</div>"
      ],
      "text/plain": [
       "   y  income  car_age\n",
       "0  0      32        3\n",
       "1  0      45        2\n",
       "2  1      60        2\n",
       "3  0      53        1\n",
       "4  0      25        4"
      ]
     },
     "execution_count": 3,
     "metadata": {},
     "output_type": "execute_result"
    }
   ],
   "source": [
    "# read car data - replace filedir with the actual location\n",
    "filedir = '../data'\n",
    "\n",
    "car = pd.read_csv(os.path.join(filedir,'Car.csv'))\n",
    "# show first five rows\n",
    "car.head()"
   ]
  },
  {
   "cell_type": "code",
   "execution_count": 4,
   "metadata": {},
   "outputs": [
    {
     "data": {
      "image/png": "[encoded data removed]",
      "text/plain": [
       "<Figure size 600x450 with 1 Axes>"
      ]
     },
     "metadata": {
      "needs_background": "light"
     },
     "output_type": "display_data"
    }
   ],
   "source": [
    "# scatter plot using seaborn\n",
    "fig = plt.figure(figsize=(4,3))\n",
    "g = sns.scatterplot(\n",
    "    data=car,\n",
    "    x='car_age',\n",
    "    y='income',\n",
    "    hue='y',# color points by category\n",
    ")"
   ]
  },
  {
   "cell_type": "code",
   "execution_count": 5,
   "metadata": {
    "scrolled": true
   },
   "outputs": [
    {
     "name": "stderr",
     "output_type": "stream",
     "text": [
      "/Users/surajys/opt/anaconda3/lib/python3.7/site-packages/numpy/core/fromnumeric.py:2629: FutureWarning: Method .ptp is deprecated and will be removed in a future version. Use numpy.ptp instead.\n",
      "  return ptp(axis=axis, out=out, **kwargs)\n"
     ]
    }
   ],
   "source": [
    "# prepare data\n",
    "y = car['y']\n",
    "\n",
    "# add constant column to dependent variables\n",
    "# need to calculate the intercept term\n",
    "X = sm.add_constant(car[['income','car_age']],prepend=True)"
   ]
  },
  {
   "cell_type": "code",
   "execution_count": 6,
   "metadata": {},
   "outputs": [
    {
     "data": {
      "text/html": [
       "<div>\n",
       "<style scoped>\n",
       "    .dataframe tbody tr th:only-of-type {\n",
       "        vertical-align: middle;\n",
       "    }\n",
       "\n",
       "    .dataframe tbody tr th {\n",
       "        vertical-align: top;\n",
       "    }\n",
       "\n",
       "    .dataframe thead th {\n",
       "        text-align: right;\n",
       "    }\n",
       "</style>\n",
       "<table border=\"1\" class=\"dataframe\">\n",
       "  <thead>\n",
       "    <tr style=\"text-align: right;\">\n",
       "      <th></th>\n",
       "      <th>const</th>\n",
       "      <th>income</th>\n",
       "      <th>car_age</th>\n",
       "    </tr>\n",
       "  </thead>\n",
       "  <tbody>\n",
       "    <tr>\n",
       "      <td>0</td>\n",
       "      <td>1.0</td>\n",
       "      <td>32</td>\n",
       "      <td>3</td>\n",
       "    </tr>\n",
       "    <tr>\n",
       "      <td>1</td>\n",
       "      <td>1.0</td>\n",
       "      <td>45</td>\n",
       "      <td>2</td>\n",
       "    </tr>\n",
       "    <tr>\n",
       "      <td>2</td>\n",
       "      <td>1.0</td>\n",
       "      <td>60</td>\n",
       "      <td>2</td>\n",
       "    </tr>\n",
       "    <tr>\n",
       "      <td>3</td>\n",
       "      <td>1.0</td>\n",
       "      <td>53</td>\n",
       "      <td>1</td>\n",
       "    </tr>\n",
       "    <tr>\n",
       "      <td>4</td>\n",
       "      <td>1.0</td>\n",
       "      <td>25</td>\n",
       "      <td>4</td>\n",
       "    </tr>\n",
       "    <tr>\n",
       "      <td>5</td>\n",
       "      <td>1.0</td>\n",
       "      <td>68</td>\n",
       "      <td>1</td>\n",
       "    </tr>\n",
       "    <tr>\n",
       "      <td>6</td>\n",
       "      <td>1.0</td>\n",
       "      <td>82</td>\n",
       "      <td>2</td>\n",
       "    </tr>\n",
       "    <tr>\n",
       "      <td>7</td>\n",
       "      <td>1.0</td>\n",
       "      <td>38</td>\n",
       "      <td>5</td>\n",
       "    </tr>\n",
       "    <tr>\n",
       "      <td>8</td>\n",
       "      <td>1.0</td>\n",
       "      <td>67</td>\n",
       "      <td>2</td>\n",
       "    </tr>\n",
       "    <tr>\n",
       "      <td>9</td>\n",
       "      <td>1.0</td>\n",
       "      <td>92</td>\n",
       "      <td>2</td>\n",
       "    </tr>\n",
       "    <tr>\n",
       "      <td>10</td>\n",
       "      <td>1.0</td>\n",
       "      <td>72</td>\n",
       "      <td>3</td>\n",
       "    </tr>\n",
       "    <tr>\n",
       "      <td>11</td>\n",
       "      <td>1.0</td>\n",
       "      <td>21</td>\n",
       "      <td>5</td>\n",
       "    </tr>\n",
       "    <tr>\n",
       "      <td>12</td>\n",
       "      <td>1.0</td>\n",
       "      <td>26</td>\n",
       "      <td>3</td>\n",
       "    </tr>\n",
       "    <tr>\n",
       "      <td>13</td>\n",
       "      <td>1.0</td>\n",
       "      <td>40</td>\n",
       "      <td>4</td>\n",
       "    </tr>\n",
       "    <tr>\n",
       "      <td>14</td>\n",
       "      <td>1.0</td>\n",
       "      <td>33</td>\n",
       "      <td>3</td>\n",
       "    </tr>\n",
       "    <tr>\n",
       "      <td>15</td>\n",
       "      <td>1.0</td>\n",
       "      <td>45</td>\n",
       "      <td>1</td>\n",
       "    </tr>\n",
       "    <tr>\n",
       "      <td>16</td>\n",
       "      <td>1.0</td>\n",
       "      <td>61</td>\n",
       "      <td>2</td>\n",
       "    </tr>\n",
       "    <tr>\n",
       "      <td>17</td>\n",
       "      <td>1.0</td>\n",
       "      <td>16</td>\n",
       "      <td>3</td>\n",
       "    </tr>\n",
       "    <tr>\n",
       "      <td>18</td>\n",
       "      <td>1.0</td>\n",
       "      <td>18</td>\n",
       "      <td>4</td>\n",
       "    </tr>\n",
       "    <tr>\n",
       "      <td>19</td>\n",
       "      <td>1.0</td>\n",
       "      <td>22</td>\n",
       "      <td>6</td>\n",
       "    </tr>\n",
       "    <tr>\n",
       "      <td>20</td>\n",
       "      <td>1.0</td>\n",
       "      <td>27</td>\n",
       "      <td>3</td>\n",
       "    </tr>\n",
       "    <tr>\n",
       "      <td>21</td>\n",
       "      <td>1.0</td>\n",
       "      <td>35</td>\n",
       "      <td>3</td>\n",
       "    </tr>\n",
       "    <tr>\n",
       "      <td>22</td>\n",
       "      <td>1.0</td>\n",
       "      <td>40</td>\n",
       "      <td>3</td>\n",
       "    </tr>\n",
       "    <tr>\n",
       "      <td>23</td>\n",
       "      <td>1.0</td>\n",
       "      <td>10</td>\n",
       "      <td>4</td>\n",
       "    </tr>\n",
       "    <tr>\n",
       "      <td>24</td>\n",
       "      <td>1.0</td>\n",
       "      <td>24</td>\n",
       "      <td>3</td>\n",
       "    </tr>\n",
       "    <tr>\n",
       "      <td>25</td>\n",
       "      <td>1.0</td>\n",
       "      <td>15</td>\n",
       "      <td>4</td>\n",
       "    </tr>\n",
       "    <tr>\n",
       "      <td>26</td>\n",
       "      <td>1.0</td>\n",
       "      <td>23</td>\n",
       "      <td>3</td>\n",
       "    </tr>\n",
       "    <tr>\n",
       "      <td>27</td>\n",
       "      <td>1.0</td>\n",
       "      <td>19</td>\n",
       "      <td>5</td>\n",
       "    </tr>\n",
       "    <tr>\n",
       "      <td>28</td>\n",
       "      <td>1.0</td>\n",
       "      <td>22</td>\n",
       "      <td>2</td>\n",
       "    </tr>\n",
       "    <tr>\n",
       "      <td>29</td>\n",
       "      <td>1.0</td>\n",
       "      <td>61</td>\n",
       "      <td>2</td>\n",
       "    </tr>\n",
       "    <tr>\n",
       "      <td>30</td>\n",
       "      <td>1.0</td>\n",
       "      <td>21</td>\n",
       "      <td>3</td>\n",
       "    </tr>\n",
       "    <tr>\n",
       "      <td>31</td>\n",
       "      <td>1.0</td>\n",
       "      <td>32</td>\n",
       "      <td>5</td>\n",
       "    </tr>\n",
       "    <tr>\n",
       "      <td>32</td>\n",
       "      <td>1.0</td>\n",
       "      <td>17</td>\n",
       "      <td>1</td>\n",
       "    </tr>\n",
       "  </tbody>\n",
       "</table>\n",
       "</div>"
      ],
      "text/plain": [
       "    const  income  car_age\n",
       "0     1.0      32        3\n",
       "1     1.0      45        2\n",
       "2     1.0      60        2\n",
       "3     1.0      53        1\n",
       "4     1.0      25        4\n",
       "5     1.0      68        1\n",
       "6     1.0      82        2\n",
       "7     1.0      38        5\n",
       "8     1.0      67        2\n",
       "9     1.0      92        2\n",
       "10    1.0      72        3\n",
       "11    1.0      21        5\n",
       "12    1.0      26        3\n",
       "13    1.0      40        4\n",
       "14    1.0      33        3\n",
       "15    1.0      45        1\n",
       "16    1.0      61        2\n",
       "17    1.0      16        3\n",
       "18    1.0      18        4\n",
       "19    1.0      22        6\n",
       "20    1.0      27        3\n",
       "21    1.0      35        3\n",
       "22    1.0      40        3\n",
       "23    1.0      10        4\n",
       "24    1.0      24        3\n",
       "25    1.0      15        4\n",
       "26    1.0      23        3\n",
       "27    1.0      19        5\n",
       "28    1.0      22        2\n",
       "29    1.0      61        2\n",
       "30    1.0      21        3\n",
       "31    1.0      32        5\n",
       "32    1.0      17        1"
      ]
     },
     "execution_count": 6,
     "metadata": {},
     "output_type": "execute_result"
    }
   ],
   "source": [
    "X"
   ]
  },
  {
   "cell_type": "code",
   "execution_count": 7,
   "metadata": {},
   "outputs": [
    {
     "name": "stdout",
     "output_type": "stream",
     "text": [
      "                 Generalized Linear Model Regression Results                  \n",
      "==============================================================================\n",
      "Dep. Variable:                      y   No. Observations:                   33\n",
      "Model:                            GLM   Df Residuals:                       30\n",
      "Model Family:                Binomial   Df Model:                            2\n",
      "Link Function:                  logit   Scale:                          1.0000\n",
      "Method:                          IRLS   Log-Likelihood:                -18.345\n",
      "Date:                Wed, 11 Jan 2023   Deviance:                       36.690\n",
      "Time:                        11:16:06   Pearson chi2:                     33.6\n",
      "No. Iterations:                     4                                         \n",
      "Covariance Type:            nonrobust                                         \n",
      "==============================================================================\n",
      "                 coef    std err          z      P>|z|      [0.025      0.975]\n",
      "------------------------------------------------------------------------------\n",
      "const         -4.7393      2.102     -2.255      0.024      -8.859      -0.620\n",
      "income         0.0677      0.028      2.414      0.016       0.013       0.123\n",
      "car_age        0.5986      0.390      1.535      0.125      -0.166       1.363\n",
      "==============================================================================\n"
     ]
    }
   ],
   "source": [
    "# fit logistic regression model\n",
    "glm_binom = sm.GLM(y,X,family=sm.families.Binomial()).fit()\n",
    "print(glm_binom.summary())"
   ]
  },
  {
   "cell_type": "code",
   "execution_count": 8,
   "metadata": {},
   "outputs": [
    {
     "data": {
      "text/plain": [
       "const     -4.739309\n",
       "income     0.067733\n",
       "car_age    0.598632\n",
       "dtype: float64"
      ]
     },
     "execution_count": 8,
     "metadata": {},
     "output_type": "execute_result"
    }
   ],
   "source": [
    "# extract parameters\n",
    "glm_binom.params"
   ]
  },
  {
   "cell_type": "code",
   "execution_count": null,
   "metadata": {},
   "outputs": [],
   "source": [
    "glm_binom.tvalues"
   ]
  },
  {
   "cell_type": "code",
   "execution_count": 9,
   "metadata": {},
   "outputs": [
    {
     "data": {
      "text/plain": [
       "const      2.101948\n",
       "income     0.028057\n",
       "car_age    0.390065\n",
       "dtype: float64"
      ]
     },
     "execution_count": 9,
     "metadata": {},
     "output_type": "execute_result"
    }
   ],
   "source": [
    "# extract std error\n",
    "cov = glm_binom.cov_params() # covariance matrix\n",
    "cov_diag = np.diag(cov) # extract the diagonal elements - variances\n",
    "std_err = pd.Series(\n",
    "    np.sqrt(cov_diag), # sqrt of variance,\n",
    "    index=cov.columns # label the entires\n",
    ")\n",
    "std_err"
   ]
  },
  {
   "cell_type": "code",
   "execution_count": 10,
   "metadata": {},
   "outputs": [
    {
     "data": {
      "text/plain": [
       "const     -2.254723\n",
       "income     2.414126\n",
       "car_age    1.534695\n",
       "dtype: float64"
      ]
     },
     "execution_count": 10,
     "metadata": {},
     "output_type": "execute_result"
    }
   ],
   "source": [
    "# tvalues\n",
    "glm_binom.tvalues"
   ]
  },
  {
   "cell_type": "code",
   "execution_count": null,
   "metadata": {},
   "outputs": [],
   "source": [
    "# extract statistics\n",
    "print('AIC: %5.3f'%glm_binom.aic)\n",
    "print('Log-likelihood: %5.3f' % (-glm_binom.deviance/2))\n",
    "print('')"
   ]
  },
  {
   "cell_type": "code",
   "execution_count": 11,
   "metadata": {},
   "outputs": [
    {
     "data": {
      "text/plain": [
       "0     0.315189\n",
       "1     0.378933\n",
       "2     0.627594\n",
       "3     0.365667\n",
       "4     0.342659\n",
       "5     0.614232\n",
       "6     0.882054\n",
       "7     0.695865\n",
       "8     0.730278\n",
       "9     0.936395\n",
       "10    0.873618\n",
       "11    0.419758\n",
       "12    0.234627\n",
       "13    0.590134\n",
       "14    0.329988\n",
       "15    0.251108\n",
       "16    0.643283\n",
       "17    0.134739\n",
       "18    0.244975\n",
       "19    0.584821\n",
       "20    0.247008\n",
       "21    0.360597\n",
       "22    0.441738\n",
       "23    0.158763\n",
       "24    0.211179\n",
       "25    0.209359\n",
       "26    0.200117\n",
       "27    0.387168\n",
       "28    0.113858\n",
       "29    0.643283\n",
       "30    0.179310\n",
       "31    0.603792\n",
       "32    0.047915\n",
       "dtype: float64"
      ]
     },
     "execution_count": 11,
     "metadata": {},
     "output_type": "execute_result"
    }
   ],
   "source": [
    "# in-sample prediction probablities\n",
    "p_hat = glm_binom.predict(X)\n",
    "p_hat"
   ]
  },
  {
   "cell_type": "code",
   "execution_count": 15,
   "metadata": {},
   "outputs": [
    {
     "data": {
      "image/png": "[encoded data removed]",
      "text/plain": [
       "<Figure size 600x450 with 1 Axes>"
      ]
     },
     "metadata": {
      "needs_background": "light"
     },
     "output_type": "display_data"
    }
   ],
   "source": [
    "# predictions - specify a threshold \n",
    "threshold = 0.42\n",
    "y_pred = 1*(p_hat>=threshold)\n",
    "\n",
    "# plot predictions and p_hat\n",
    "fig,ax = plt.subplots(1,1,figsize=(4,3))\n",
    "g = sns.scatterplot(x=p_hat,y=y,hue=y_pred,ax=ax) \n",
    "_ = g.legend(loc='center right') # change legend location\n",
    "_ = g.axvline(threshold,ls='--',zorder=0,color='black') # vertical line for threshold\n",
    "\n",
    "# set x-axis labels\n",
    "_ = g.set_xlabel('Prediction probability')"
   ]
  },
  {
   "cell_type": "markdown",
   "metadata": {},
   "source": [
    "**Sanity check**: compute log-likelihood of dataset and compare with the model\n",
    "\n",
    "$$\n",
    "\\log\\mathcal{L} = \\sum_{i=1}^{N}\\left(y_i\\log(p_i) + (1-y_i)\\log(1-p_i) \\right)\n",
    "$$"
   ]
  },
  {
   "cell_type": "code",
   "execution_count": null,
   "metadata": {},
   "outputs": [],
   "source": [
    "# SANITY-check: manually calculate log-likelihood and compare with model\n",
    "log_lik = np.sum(y*np.log(p_hat)+(1-y)*np.log(1-p_hat))\n",
    "print('%.3f'%log_lik)"
   ]
  },
  {
   "cell_type": "code",
   "execution_count": null,
   "metadata": {},
   "outputs": [],
   "source": []
  }
 ],
 "metadata": {
  "kernelspec": {
   "display_name": "msia420-2",
   "language": "python",
   "name": "msia420-2"
  },
  "language_info": {
   "codemirror_mode": {
    "name": "ipython",
    "version": 3
   },
   "file_extension": ".py",
   "mimetype": "text/x-python",
   "name": "python",
   "nbconvert_exporter": "python",
   "pygments_lexer": "ipython3",
   "version": "3.7.4"
  }
 },
 "nbformat": 4,
 "nbformat_minor": 4
}
