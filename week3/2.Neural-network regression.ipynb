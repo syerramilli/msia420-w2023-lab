{
 "cells": [
  {
   "cell_type": "markdown",
   "metadata": {},
   "source": [
    "# Neural network regression\n",
    "\n",
    "We will be using the `scikit-learn` library to train neural networks. While there are deep learning libraries which offer advanced functionality, the neural network implementation in `scikit-learn` covers all the cases we are going to encounter in this course, and does much more. Moreover, its training and prediction procedures are very straightforward.\n",
    "\n",
    "There are two classes in the `sklearn.neural_network` module - `MLPRegressor` and `MLPClassifier` for regression and classification tasks respectively. This week, we will be covering the `MLPRegressor` class. In this notebook, we will be training a neural network regression model on the concrete dataset discussed in class."
   ]
  },
  {
   "cell_type": "code",
   "execution_count": 1,
   "metadata": {},
   "outputs": [],
   "source": [
    "import numpy as np\n",
    "import pandas as pd\n",
    "import matplotlib.pyplot as plt\n",
    "import seaborn as sns\n",
    "\n",
    "%matplotlib inline"
   ]
  },
  {
   "cell_type": "code",
   "execution_count": 2,
   "metadata": {},
   "outputs": [],
   "source": [
    "plt.rcParams['figure.dpi'] = 150"
   ]
  },
  {
   "cell_type": "code",
   "execution_count": 3,
   "metadata": {},
   "outputs": [
    {
     "data": {
      "text/html": [
       "<div>\n",
       "<style scoped>\n",
       "    .dataframe tbody tr th:only-of-type {\n",
       "        vertical-align: middle;\n",
       "    }\n",
       "\n",
       "    .dataframe tbody tr th {\n",
       "        vertical-align: top;\n",
       "    }\n",
       "\n",
       "    .dataframe thead th {\n",
       "        text-align: right;\n",
       "    }\n",
       "</style>\n",
       "<table border=\"1\" class=\"dataframe\">\n",
       "  <thead>\n",
       "    <tr style=\"text-align: right;\">\n",
       "      <th></th>\n",
       "      <th>Cement</th>\n",
       "      <th>Slag</th>\n",
       "      <th>FlyAsh</th>\n",
       "      <th>Water</th>\n",
       "      <th>SPlast</th>\n",
       "      <th>CAgg</th>\n",
       "      <th>FAgg</th>\n",
       "      <th>Age</th>\n",
       "      <th>Strength</th>\n",
       "    </tr>\n",
       "  </thead>\n",
       "  <tbody>\n",
       "    <tr>\n",
       "      <td>0</td>\n",
       "      <td>540.0</td>\n",
       "      <td>0.0</td>\n",
       "      <td>0.0</td>\n",
       "      <td>162.0</td>\n",
       "      <td>2.5</td>\n",
       "      <td>1040.0</td>\n",
       "      <td>676.0</td>\n",
       "      <td>28</td>\n",
       "      <td>79.99</td>\n",
       "    </tr>\n",
       "    <tr>\n",
       "      <td>1</td>\n",
       "      <td>540.0</td>\n",
       "      <td>0.0</td>\n",
       "      <td>0.0</td>\n",
       "      <td>162.0</td>\n",
       "      <td>2.5</td>\n",
       "      <td>1055.0</td>\n",
       "      <td>676.0</td>\n",
       "      <td>28</td>\n",
       "      <td>61.89</td>\n",
       "    </tr>\n",
       "    <tr>\n",
       "      <td>2</td>\n",
       "      <td>332.5</td>\n",
       "      <td>142.5</td>\n",
       "      <td>0.0</td>\n",
       "      <td>228.0</td>\n",
       "      <td>0.0</td>\n",
       "      <td>932.0</td>\n",
       "      <td>594.0</td>\n",
       "      <td>270</td>\n",
       "      <td>40.27</td>\n",
       "    </tr>\n",
       "    <tr>\n",
       "      <td>3</td>\n",
       "      <td>332.5</td>\n",
       "      <td>142.5</td>\n",
       "      <td>0.0</td>\n",
       "      <td>228.0</td>\n",
       "      <td>0.0</td>\n",
       "      <td>932.0</td>\n",
       "      <td>594.0</td>\n",
       "      <td>365</td>\n",
       "      <td>41.05</td>\n",
       "    </tr>\n",
       "    <tr>\n",
       "      <td>4</td>\n",
       "      <td>198.6</td>\n",
       "      <td>132.4</td>\n",
       "      <td>0.0</td>\n",
       "      <td>192.0</td>\n",
       "      <td>0.0</td>\n",
       "      <td>978.4</td>\n",
       "      <td>825.5</td>\n",
       "      <td>360</td>\n",
       "      <td>44.30</td>\n",
       "    </tr>\n",
       "  </tbody>\n",
       "</table>\n",
       "</div>"
      ],
      "text/plain": [
       "   Cement   Slag  FlyAsh  Water  SPlast    CAgg   FAgg  Age  Strength\n",
       "0   540.0    0.0     0.0  162.0     2.5  1040.0  676.0   28     79.99\n",
       "1   540.0    0.0     0.0  162.0     2.5  1055.0  676.0   28     61.89\n",
       "2   332.5  142.5     0.0  228.0     0.0   932.0  594.0  270     40.27\n",
       "3   332.5  142.5     0.0  228.0     0.0   932.0  594.0  365     41.05\n",
       "4   198.6  132.4     0.0  192.0     0.0   978.4  825.5  360     44.30"
      ]
     },
     "execution_count": 3,
     "metadata": {},
     "output_type": "execute_result"
    }
   ],
   "source": [
    "# load the concrete dataset\n",
    "crt = pd.read_csv(\"../data/concrete.csv\")\n",
    "crt.head()"
   ]
  },
  {
   "cell_type": "code",
   "execution_count": 4,
   "metadata": {},
   "outputs": [],
   "source": [
    "# standardize predictors\n",
    "X = crt.drop('Strength',axis=1).values # extract as numpy ndarray\n",
    "X_mean,X_std = X.mean(axis=0),X.std(axis=0)\n",
    "X = (X-X_mean)/X_std\n",
    "\n",
    "# standardize response\n",
    "y = crt['Strength'].values\n",
    "y_mean,y_std = y.mean(),y.std()\n",
    "y = (y-y_mean)/y_std"
   ]
  },
  {
   "cell_type": "markdown",
   "metadata": {},
   "source": [
    "## `MLPRegressor` class\n",
    "\n",
    "Some differences from `nnet` (for regression):\n",
    "\n",
    "- Can construct multiple hidden layers.\n",
    "- Supports two more nonlinear activation functions for the hidden layers: `relu` and `tanh`. `nnet` supports only `logistic` activation. \n",
    "$$\n",
    "\\begin{aligned}\n",
    "    \\mathrm{logistic}(x) &= \\frac{1}{1+ e^{-x}} \\\\\n",
    "    \\mathrm{tanh}(x) &= \\frac{e^x - e^{-x}}{e^x + e^{-x}} = 2*\\mathrm{logistic}(2x)-1\\\\ \n",
    "    \\mathrm{relu}(x) &= \\max(0,x) \n",
    "\\end{aligned}\n",
    "$$\n",
    "\n",
    "- Has support for stochastic gradient optimization (relevant only for large datasets). \n",
    "- **Does not** support skip-layer connections from input to output.\n",
    "\n",
    "In this notebook, we will use only those options available to both `nnet` and `MLPRegressor` - single hidden layer, logistic activation function for the hidden layer, and standard non-linear optimization."
   ]
  },
  {
   "cell_type": "code",
   "execution_count": 5,
   "metadata": {},
   "outputs": [
    {
     "name": "stdout",
     "output_type": "stream",
     "text": [
      "Multi-layer Perceptron regressor.\n",
      "\n",
      "    This model optimizes the squared-loss using LBFGS or stochastic gradient\n",
      "    descent.\n",
      "\n",
      "    .. versionadded:: 0.18\n",
      "\n",
      "    Parameters\n",
      "    ----------\n",
      "    hidden_layer_sizes : tuple, length = n_layers - 2, default=(100,)\n",
      "        The ith element represents the number of neurons in the ith\n",
      "        hidden layer.\n",
      "\n",
      "    activation : {'identity', 'logistic', 'tanh', 'relu'}, default='relu'\n",
      "        Activation function for the hidden layer.\n",
      "\n",
      "        - 'identity', no-op activation, useful to implement linear bottleneck,\n",
      "          returns f(x) = x\n",
      "\n",
      "        - 'logistic', the logistic sigmoid function,\n",
      "          returns f(x) = 1 / (1 + exp(-x)).\n",
      "\n",
      "        - 'tanh', the hyperbolic tan function,\n",
      "          returns f(x) = tanh(x).\n",
      "\n",
      "        - 'relu', the rectified linear unit function,\n",
      "          returns f(x) = max(0, x)\n",
      "\n",
      "    solver : {'lbfgs', 'sgd', 'adam'}, default='adam'\n",
      "        The solver for weight optimization.\n",
      "\n",
      "        - 'lbfgs' is an optimizer in the family of quasi-Newton methods.\n",
      "\n",
      "        - 'sgd' refers to stochastic gradient descent.\n",
      "\n",
      "        - 'adam' refers to a stochastic gradient-based optimizer proposed by\n",
      "          Kingma, Diederik, and Jimmy Ba\n",
      "\n",
      "        Note: The default solver 'adam' works pretty well on relatively\n",
      "        large datasets (with thousands of training samples or more) in terms of\n",
      "        both training time and validation score.\n",
      "        For small datasets, however, 'lbfgs' can converge faster and perform\n",
      "        better.\n",
      "\n",
      "    alpha : float, default=0.0001\n",
      "        L2 penalty (regularization term) parameter.\n",
      "\n",
      "    batch_size : int, default='auto'\n",
      "        Size of minibatches for stochastic optimizers.\n",
      "        If the solver is 'lbfgs', the classifier will not use minibatch.\n",
      "        When set to \"auto\", `batch_size=min(200, n_samples)`\n",
      "\n",
      "    learning_rate : {'constant', 'invscaling', 'adaptive'}, default='constant'\n",
      "        Learning rate schedule for weight updates.\n",
      "\n",
      "        - 'constant' is a constant learning rate given by\n",
      "          'learning_rate_init'.\n",
      "\n",
      "        - 'invscaling' gradually decreases the learning rate ``learning_rate_``\n",
      "          at each time step 't' using an inverse scaling exponent of 'power_t'.\n",
      "          effective_learning_rate = learning_rate_init / pow(t, power_t)\n",
      "\n",
      "        - 'adaptive' keeps the learning rate constant to\n",
      "          'learning_rate_init' as long as training loss keeps decreasing.\n",
      "          Each time two consecutive epochs fail to decrease training loss by at\n",
      "          least tol, or fail to increase validation score by at least tol if\n",
      "          'early_stopping' is on, the current learning rate is divided by 5.\n",
      "\n",
      "        Only used when solver='sgd'.\n",
      "\n",
      "    learning_rate_init : double, default=0.001\n",
      "        The initial learning rate used. It controls the step-size\n",
      "        in updating the weights. Only used when solver='sgd' or 'adam'.\n",
      "\n",
      "    power_t : double, default=0.5\n",
      "        The exponent for inverse scaling learning rate.\n",
      "        It is used in updating effective learning rate when the learning_rate\n",
      "        is set to 'invscaling'. Only used when solver='sgd'.\n",
      "\n",
      "    max_iter : int, default=200\n",
      "        Maximum number of iterations. The solver iterates until convergence\n",
      "        (determined by 'tol') or this number of iterations. For stochastic\n",
      "        solvers ('sgd', 'adam'), note that this determines the number of epochs\n",
      "        (how many times each data point will be used), not the number of\n",
      "        gradient steps.\n",
      "\n",
      "    shuffle : bool, default=True\n",
      "        Whether to shuffle samples in each iteration. Only used when\n",
      "        solver='sgd' or 'adam'.\n",
      "\n",
      "    random_state : int, RandomState instance, default=None\n",
      "        Determines random number generation for weights and bias\n",
      "        initialization, train-test split if early stopping is used, and batch\n",
      "        sampling when solver='sgd' or 'adam'.\n",
      "        Pass an int for reproducible results across multiple function calls.\n",
      "        See :term:`Glossary <random_state>`.\n",
      "\n",
      "    tol : float, default=1e-4\n",
      "        Tolerance for the optimization. When the loss or score is not improving\n",
      "        by at least ``tol`` for ``n_iter_no_change`` consecutive iterations,\n",
      "        unless ``learning_rate`` is set to 'adaptive', convergence is\n",
      "        considered to be reached and training stops.\n",
      "\n",
      "    verbose : bool, default=False\n",
      "        Whether to print progress messages to stdout.\n",
      "\n",
      "    warm_start : bool, default=False\n",
      "        When set to True, reuse the solution of the previous\n",
      "        call to fit as initialization, otherwise, just erase the\n",
      "        previous solution. See :term:`the Glossary <warm_start>`.\n",
      "\n",
      "    momentum : float, default=0.9\n",
      "        Momentum for gradient descent update.  Should be between 0 and 1. Only\n",
      "        used when solver='sgd'.\n",
      "\n",
      "    nesterovs_momentum : bool, default=True\n",
      "        Whether to use Nesterov's momentum. Only used when solver='sgd' and\n",
      "        momentum > 0.\n",
      "\n",
      "    early_stopping : bool, default=False\n",
      "        Whether to use early stopping to terminate training when validation\n",
      "        score is not improving. If set to true, it will automatically set\n",
      "        aside 10% of training data as validation and terminate training when\n",
      "        validation score is not improving by at least ``tol`` for\n",
      "        ``n_iter_no_change`` consecutive epochs.\n",
      "        Only effective when solver='sgd' or 'adam'\n",
      "\n",
      "    validation_fraction : float, default=0.1\n",
      "        The proportion of training data to set aside as validation set for\n",
      "        early stopping. Must be between 0 and 1.\n",
      "        Only used if early_stopping is True\n",
      "\n",
      "    beta_1 : float, default=0.9\n",
      "        Exponential decay rate for estimates of first moment vector in adam,\n",
      "        should be in [0, 1). Only used when solver='adam'\n",
      "\n",
      "    beta_2 : float, default=0.999\n",
      "        Exponential decay rate for estimates of second moment vector in adam,\n",
      "        should be in [0, 1). Only used when solver='adam'\n",
      "\n",
      "    epsilon : float, default=1e-8\n",
      "        Value for numerical stability in adam. Only used when solver='adam'\n",
      "\n",
      "    n_iter_no_change : int, default=10\n",
      "        Maximum number of epochs to not meet ``tol`` improvement.\n",
      "        Only effective when solver='sgd' or 'adam'\n",
      "\n",
      "        .. versionadded:: 0.20\n",
      "\n",
      "    max_fun : int, default=15000\n",
      "        Only used when solver='lbfgs'. Maximum number of function calls.\n",
      "        The solver iterates until convergence (determined by 'tol'), number\n",
      "        of iterations reaches max_iter, or this number of function calls.\n",
      "        Note that number of function calls will be greater than or equal to\n",
      "        the number of iterations for the MLPRegressor.\n",
      "\n",
      "        .. versionadded:: 0.22\n",
      "\n",
      "    Attributes\n",
      "    ----------\n",
      "    loss_ : float\n",
      "        The current loss computed with the loss function.\n",
      "\n",
      "    best_loss_ : float\n",
      "        The minimum loss reached by the solver throughout fitting.\n",
      "\n",
      "    loss_curve_ : list of shape (`n_iter_`,)\n",
      "        The ith element in the list represents the loss at the ith iteration.\n",
      "\n",
      "    t_ : int\n",
      "        The number of training samples seen by the solver during fitting.\n",
      "\n",
      "    coefs_ : list of shape (n_layers - 1,)\n",
      "        The ith element in the list represents the weight matrix corresponding\n",
      "        to layer i.\n",
      "\n",
      "    intercepts_ : list of shape (n_layers - 1,)\n",
      "        The ith element in the list represents the bias vector corresponding to\n",
      "        layer i + 1.\n",
      "\n",
      "    n_iter_ : int\n",
      "        The number of iterations the solver has ran.\n",
      "\n",
      "    n_layers_ : int\n",
      "        Number of layers.\n",
      "\n",
      "    n_outputs_ : int\n",
      "        Number of outputs.\n",
      "\n",
      "    out_activation_ : str\n",
      "        Name of the output activation function.\n",
      "\n",
      "    loss_curve_ : list of shape (n_iters,)\n",
      "        Loss value evaluated at the end of each training step.\n",
      "\n",
      "    t_ : int\n",
      "        Mathematically equals `n_iters * X.shape[0]`, it means\n",
      "        `time_step` and it is used by optimizer's learning rate scheduler.\n",
      "\n",
      "    Examples\n",
      "    --------\n",
      "    >>> from sklearn.neural_network import MLPRegressor\n",
      "    >>> from sklearn.datasets import make_regression\n",
      "    >>> from sklearn.model_selection import train_test_split\n",
      "    >>> X, y = make_regression(n_samples=200, random_state=1)\n",
      "    >>> X_train, X_test, y_train, y_test = train_test_split(X, y,\n",
      "    ...                                                     random_state=1)\n",
      "    >>> regr = MLPRegressor(random_state=1, max_iter=500).fit(X_train, y_train)\n",
      "    >>> regr.predict(X_test[:2])\n",
      "    array([-0.9..., -7.1...])\n",
      "    >>> regr.score(X_test, y_test)\n",
      "    0.4...\n",
      "\n",
      "    Notes\n",
      "    -----\n",
      "    MLPRegressor trains iteratively since at each time step\n",
      "    the partial derivatives of the loss function with respect to the model\n",
      "    parameters are computed to update the parameters.\n",
      "\n",
      "    It can also have a regularization term added to the loss function\n",
      "    that shrinks model parameters to prevent overfitting.\n",
      "\n",
      "    This implementation works with data represented as dense and sparse numpy\n",
      "    arrays of floating point values.\n",
      "\n",
      "    References\n",
      "    ----------\n",
      "    Hinton, Geoffrey E.\n",
      "        \"Connectionist learning procedures.\" Artificial intelligence 40.1\n",
      "        (1989): 185-234.\n",
      "\n",
      "    Glorot, Xavier, and Yoshua Bengio. \"Understanding the difficulty of\n",
      "        training deep feedforward neural networks.\" International Conference\n",
      "        on Artificial Intelligence and Statistics. 2010.\n",
      "\n",
      "    He, Kaiming, et al. \"Delving deep into rectifiers: Surpassing human-level\n",
      "        performance on imagenet classification.\" arXiv preprint\n",
      "        arXiv:1502.01852 (2015).\n",
      "\n",
      "    Kingma, Diederik, and Jimmy Ba. \"Adam: A method for stochastic\n",
      "        optimization.\" arXiv preprint arXiv:1412.6980 (2014).\n",
      "    \n"
     ]
    }
   ],
   "source": [
    "# Neural network regression model\n",
    "from sklearn.neural_network import MLPRegressor\n",
    "\n",
    "print(MLPRegressor.__doc__)"
   ]
  },
  {
   "cell_type": "code",
   "execution_count": 6,
   "metadata": {},
   "outputs": [],
   "source": [
    "# define a neural network model\n",
    "nn1 = MLPRegressor(\n",
    "    hidden_layer_sizes=10, # scalar -> single hidden layer with 10 units\n",
    "    activation='logistic', # activation function for the hidden layer (not the default)\n",
    "    solver='lbfgs', # deterministic optimizer (not the default)\n",
    "    alpha=0.01,# regularization parameter\n",
    "    max_iter = 1000 # number of optimization iterations\n",
    ")\n",
    "\n",
    "# fit model\n",
    "_ = nn1.fit(X,y)"
   ]
  },
  {
   "cell_type": "code",
   "execution_count": 7,
   "metadata": {},
   "outputs": [
    {
     "data": {
      "image/png": "[encoded data removed]",
      "text/plain": [
       "<Figure size 675x450 with 1 Axes>"
      ]
     },
     "metadata": {
      "needs_background": "light"
     },
     "output_type": "display_data"
    }
   ],
   "source": [
    "# computing predictions on training set\n",
    "y_pred = nn1.predict(X)\n",
    "# residuals\n",
    "e = y-y_pred\n",
    "\n",
    "# quick diagnostic -  residual vs fitted\n",
    "fig,axs = plt.subplots(1,1,figsize=(4.5,3))\n",
    "_ = sns.scatterplot(x=y_pred,y=e,ax=axs)\n",
    "_ = axs.set_xlabel('Fitted values')\n",
    "_ = axs.set_ylabel('Residuals')"
   ]
  },
  {
   "cell_type": "code",
   "execution_count": 8,
   "metadata": {},
   "outputs": [
    {
     "data": {
      "text/plain": [
       "0.9379283315650475"
      ]
     },
     "execution_count": 8,
     "metadata": {},
     "output_type": "execute_result"
    }
   ],
   "source": [
    "# training metrics\n",
    "training_r2 = 1 - np.mean(e**2)/y.var()\n",
    "training_r2"
   ]
  },
  {
   "cell_type": "code",
   "execution_count": 15,
   "metadata": {},
   "outputs": [
    {
     "data": {
      "text/plain": [
       "array([[-4.41713603e-01, -7.14800498e-01, -3.44556091e+00,\n",
       "        -1.09324791e+00,  3.42313042e-01, -5.86772367e-01,\n",
       "        -2.66038140e+00,  1.18725191e+00, -1.39067097e+00,\n",
       "        -1.03287317e-01],\n",
       "       [-9.07985979e-01, -4.30629155e-01, -1.96073491e+00,\n",
       "        -5.89726305e-01, -2.80435604e-01, -6.30299304e-01,\n",
       "        -2.92005366e+00,  9.04426780e-01, -1.66737431e+00,\n",
       "         4.59840920e-01],\n",
       "       [-1.66596980e+00, -1.53247323e-02, -6.32150266e-01,\n",
       "        -2.25594431e-01, -1.22376310e+00, -4.12834515e-01,\n",
       "        -1.25152239e+00, -1.99161004e+00, -4.67863140e+00,\n",
       "         8.57101323e-02],\n",
       "       [-2.08406473e+00,  3.91611795e+00, -1.25056201e+00,\n",
       "        -6.52396622e-01, -2.43942993e+00,  1.28310319e-01,\n",
       "        -2.45604937e+00,  4.10825027e-01, -1.38992378e+00,\n",
       "         2.26807616e+00],\n",
       "       [ 6.47011728e-01,  2.11785990e-01, -1.17192868e+00,\n",
       "         3.97885565e-03,  9.76236746e-01,  9.93396550e-02,\n",
       "         6.95757544e-01, -1.88882044e+00, -7.24405320e-01,\n",
       "        -1.93763620e-01],\n",
       "       [ 1.18343443e-01,  7.26834165e-03, -8.92844326e-01,\n",
       "        -5.41211446e-01,  2.83249461e-01, -1.31913051e-01,\n",
       "        -1.36300691e+00, -6.53944713e-01, -2.00319172e+00,\n",
       "         9.53249462e-01],\n",
       "       [-4.01632223e-01,  1.09899437e+00, -1.08813012e+00,\n",
       "        -4.71058768e-01,  9.17174076e-03, -1.34122949e-01,\n",
       "        -3.25837796e+00,  4.73642358e+00,  2.14983177e+00,\n",
       "         1.31260725e+00],\n",
       "       [-7.39897562e-02,  5.85892467e-02,  3.16143058e+00,\n",
       "        -7.63870042e-01,  1.38509550e-01,  9.76281408e+00,\n",
       "         8.52018612e-01, -1.79195779e-01,  3.72712743e-01,\n",
       "         1.14956923e-01]])"
      ]
     },
     "execution_count": 15,
     "metadata": {},
     "output_type": "execute_result"
    }
   ],
   "source": [
    "nn1.coefs_[0]"
   ]
  },
  {
   "cell_type": "markdown",
   "metadata": {},
   "source": [
    "### Tuning hyperparameters via grid search\n",
    "\n",
    "Two hyperparameters to tune \n",
    "\n",
    "- Number of units in the hidden layer, `hidden_layer_sizes` (we will be using only a single hidden layer)\n",
    "- Regularization penalty, `alpha`"
   ]
  },
  {
   "cell_type": "code",
   "execution_count": 16,
   "metadata": {},
   "outputs": [
    {
     "data": {
      "text/plain": [
       "[(0.01, 5),\n",
       " (0.01, 10),\n",
       " (0.01, 20),\n",
       " (0.01, 30),\n",
       " (0.1, 5),\n",
       " (0.1, 10),\n",
       " (0.1, 20),\n",
       " (0.1, 30),\n",
       " (1, 5),\n",
       " (1, 10),\n",
       " (1, 20),\n",
       " (1, 30)]"
      ]
     },
     "execution_count": 16,
     "metadata": {},
     "output_type": "execute_result"
    }
   ],
   "source": [
    "# for generating combinations\n",
    "from itertools import product\n",
    "\n",
    "# create grid of hyperparameters\n",
    "alphas = [0.01,0.1,1] # 3 values for alpha\n",
    "sizes = [5,10,20,30] # 4 values for the number of units\n",
    "\n",
    "configs = list(product(alphas,sizes)) # 12 different combinations\n",
    "configs"
   ]
  },
  {
   "cell_type": "code",
   "execution_count": 17,
   "metadata": {},
   "outputs": [],
   "source": [
    "# Model validation \n",
    "from sklearn.model_selection import KFold\n",
    "from sklearn.metrics import mean_squared_error # CV loss metric\n",
    "from sklearn.base import clone # create a copy of the model"
   ]
  },
  {
   "cell_type": "code",
   "execution_count": 18,
   "metadata": {
    "scrolled": true
   },
   "outputs": [
    {
     "name": "stderr",
     "output_type": "stream",
     "text": [
      "/Users/surajys/opt/anaconda3/lib/python3.7/site-packages/sklearn/neural_network/_multilayer_perceptron.py:500: ConvergenceWarning: lbfgs failed to converge (status=1):\n",
      "STOP: TOTAL NO. of ITERATIONS REACHED LIMIT.\n",
      "\n",
      "Increase the number of iterations (max_iter) or scale the data as shown in:\n",
      "    https://scikit-learn.org/stable/modules/preprocessing.html\n",
      "  self.n_iter_ = _check_optimize_result(\"lbfgs\", opt_res, self.max_iter)\n",
      "/Users/surajys/opt/anaconda3/lib/python3.7/site-packages/sklearn/neural_network/_multilayer_perceptron.py:500: ConvergenceWarning: lbfgs failed to converge (status=1):\n",
      "STOP: TOTAL NO. of ITERATIONS REACHED LIMIT.\n",
      "\n",
      "Increase the number of iterations (max_iter) or scale the data as shown in:\n",
      "    https://scikit-learn.org/stable/modules/preprocessing.html\n",
      "  self.n_iter_ = _check_optimize_result(\"lbfgs\", opt_res, self.max_iter)\n",
      "/Users/surajys/opt/anaconda3/lib/python3.7/site-packages/sklearn/neural_network/_multilayer_perceptron.py:500: ConvergenceWarning: lbfgs failed to converge (status=1):\n",
      "STOP: TOTAL NO. of ITERATIONS REACHED LIMIT.\n",
      "\n",
      "Increase the number of iterations (max_iter) or scale the data as shown in:\n",
      "    https://scikit-learn.org/stable/modules/preprocessing.html\n",
      "  self.n_iter_ = _check_optimize_result(\"lbfgs\", opt_res, self.max_iter)\n",
      "/Users/surajys/opt/anaconda3/lib/python3.7/site-packages/sklearn/neural_network/_multilayer_perceptron.py:500: ConvergenceWarning: lbfgs failed to converge (status=1):\n",
      "STOP: TOTAL NO. of ITERATIONS REACHED LIMIT.\n",
      "\n",
      "Increase the number of iterations (max_iter) or scale the data as shown in:\n",
      "    https://scikit-learn.org/stable/modules/preprocessing.html\n",
      "  self.n_iter_ = _check_optimize_result(\"lbfgs\", opt_res, self.max_iter)\n",
      "/Users/surajys/opt/anaconda3/lib/python3.7/site-packages/sklearn/neural_network/_multilayer_perceptron.py:500: ConvergenceWarning: lbfgs failed to converge (status=1):\n",
      "STOP: TOTAL NO. of ITERATIONS REACHED LIMIT.\n",
      "\n",
      "Increase the number of iterations (max_iter) or scale the data as shown in:\n",
      "    https://scikit-learn.org/stable/modules/preprocessing.html\n",
      "  self.n_iter_ = _check_optimize_result(\"lbfgs\", opt_res, self.max_iter)\n",
      "/Users/surajys/opt/anaconda3/lib/python3.7/site-packages/sklearn/neural_network/_multilayer_perceptron.py:500: ConvergenceWarning: lbfgs failed to converge (status=1):\n",
      "STOP: TOTAL NO. of ITERATIONS REACHED LIMIT.\n",
      "\n",
      "Increase the number of iterations (max_iter) or scale the data as shown in:\n",
      "    https://scikit-learn.org/stable/modules/preprocessing.html\n",
      "  self.n_iter_ = _check_optimize_result(\"lbfgs\", opt_res, self.max_iter)\n",
      "/Users/surajys/opt/anaconda3/lib/python3.7/site-packages/sklearn/neural_network/_multilayer_perceptron.py:500: ConvergenceWarning: lbfgs failed to converge (status=1):\n",
      "STOP: TOTAL NO. of ITERATIONS REACHED LIMIT.\n",
      "\n",
      "Increase the number of iterations (max_iter) or scale the data as shown in:\n",
      "    https://scikit-learn.org/stable/modules/preprocessing.html\n",
      "  self.n_iter_ = _check_optimize_result(\"lbfgs\", opt_res, self.max_iter)\n",
      "/Users/surajys/opt/anaconda3/lib/python3.7/site-packages/sklearn/neural_network/_multilayer_perceptron.py:500: ConvergenceWarning: lbfgs failed to converge (status=1):\n",
      "STOP: TOTAL NO. of ITERATIONS REACHED LIMIT.\n",
      "\n",
      "Increase the number of iterations (max_iter) or scale the data as shown in:\n",
      "    https://scikit-learn.org/stable/modules/preprocessing.html\n",
      "  self.n_iter_ = _check_optimize_result(\"lbfgs\", opt_res, self.max_iter)\n",
      "/Users/surajys/opt/anaconda3/lib/python3.7/site-packages/sklearn/neural_network/_multilayer_perceptron.py:500: ConvergenceWarning: lbfgs failed to converge (status=1):\n",
      "STOP: TOTAL NO. of ITERATIONS REACHED LIMIT.\n",
      "\n",
      "Increase the number of iterations (max_iter) or scale the data as shown in:\n",
      "    https://scikit-learn.org/stable/modules/preprocessing.html\n",
      "  self.n_iter_ = _check_optimize_result(\"lbfgs\", opt_res, self.max_iter)\n",
      "/Users/surajys/opt/anaconda3/lib/python3.7/site-packages/sklearn/neural_network/_multilayer_perceptron.py:500: ConvergenceWarning: lbfgs failed to converge (status=1):\n",
      "STOP: TOTAL NO. of ITERATIONS REACHED LIMIT.\n",
      "\n",
      "Increase the number of iterations (max_iter) or scale the data as shown in:\n",
      "    https://scikit-learn.org/stable/modules/preprocessing.html\n",
      "  self.n_iter_ = _check_optimize_result(\"lbfgs\", opt_res, self.max_iter)\n",
      "/Users/surajys/opt/anaconda3/lib/python3.7/site-packages/sklearn/neural_network/_multilayer_perceptron.py:500: ConvergenceWarning: lbfgs failed to converge (status=1):\n",
      "STOP: TOTAL NO. of ITERATIONS REACHED LIMIT.\n",
      "\n",
      "Increase the number of iterations (max_iter) or scale the data as shown in:\n",
      "    https://scikit-learn.org/stable/modules/preprocessing.html\n",
      "  self.n_iter_ = _check_optimize_result(\"lbfgs\", opt_res, self.max_iter)\n",
      "/Users/surajys/opt/anaconda3/lib/python3.7/site-packages/sklearn/neural_network/_multilayer_perceptron.py:500: ConvergenceWarning: lbfgs failed to converge (status=1):\n",
      "STOP: TOTAL NO. of ITERATIONS REACHED LIMIT.\n",
      "\n",
      "Increase the number of iterations (max_iter) or scale the data as shown in:\n",
      "    https://scikit-learn.org/stable/modules/preprocessing.html\n",
      "  self.n_iter_ = _check_optimize_result(\"lbfgs\", opt_res, self.max_iter)\n",
      "/Users/surajys/opt/anaconda3/lib/python3.7/site-packages/sklearn/neural_network/_multilayer_perceptron.py:500: ConvergenceWarning: lbfgs failed to converge (status=1):\n",
      "STOP: TOTAL NO. of ITERATIONS REACHED LIMIT.\n",
      "\n",
      "Increase the number of iterations (max_iter) or scale the data as shown in:\n",
      "    https://scikit-learn.org/stable/modules/preprocessing.html\n",
      "  self.n_iter_ = _check_optimize_result(\"lbfgs\", opt_res, self.max_iter)\n",
      "/Users/surajys/opt/anaconda3/lib/python3.7/site-packages/sklearn/neural_network/_multilayer_perceptron.py:500: ConvergenceWarning: lbfgs failed to converge (status=1):\n",
      "STOP: TOTAL NO. of ITERATIONS REACHED LIMIT.\n",
      "\n",
      "Increase the number of iterations (max_iter) or scale the data as shown in:\n",
      "    https://scikit-learn.org/stable/modules/preprocessing.html\n",
      "  self.n_iter_ = _check_optimize_result(\"lbfgs\", opt_res, self.max_iter)\n",
      "/Users/surajys/opt/anaconda3/lib/python3.7/site-packages/sklearn/neural_network/_multilayer_perceptron.py:500: ConvergenceWarning: lbfgs failed to converge (status=1):\n",
      "STOP: TOTAL NO. of ITERATIONS REACHED LIMIT.\n",
      "\n",
      "Increase the number of iterations (max_iter) or scale the data as shown in:\n",
      "    https://scikit-learn.org/stable/modules/preprocessing.html\n",
      "  self.n_iter_ = _check_optimize_result(\"lbfgs\", opt_res, self.max_iter)\n",
      "/Users/surajys/opt/anaconda3/lib/python3.7/site-packages/sklearn/neural_network/_multilayer_perceptron.py:500: ConvergenceWarning: lbfgs failed to converge (status=1):\n",
      "STOP: TOTAL NO. of ITERATIONS REACHED LIMIT.\n",
      "\n",
      "Increase the number of iterations (max_iter) or scale the data as shown in:\n",
      "    https://scikit-learn.org/stable/modules/preprocessing.html\n",
      "  self.n_iter_ = _check_optimize_result(\"lbfgs\", opt_res, self.max_iter)\n",
      "/Users/surajys/opt/anaconda3/lib/python3.7/site-packages/sklearn/neural_network/_multilayer_perceptron.py:500: ConvergenceWarning: lbfgs failed to converge (status=1):\n",
      "STOP: TOTAL NO. of ITERATIONS REACHED LIMIT.\n",
      "\n",
      "Increase the number of iterations (max_iter) or scale the data as shown in:\n",
      "    https://scikit-learn.org/stable/modules/preprocessing.html\n",
      "  self.n_iter_ = _check_optimize_result(\"lbfgs\", opt_res, self.max_iter)\n",
      "/Users/surajys/opt/anaconda3/lib/python3.7/site-packages/sklearn/neural_network/_multilayer_perceptron.py:500: ConvergenceWarning: lbfgs failed to converge (status=1):\n",
      "STOP: TOTAL NO. of ITERATIONS REACHED LIMIT.\n",
      "\n",
      "Increase the number of iterations (max_iter) or scale the data as shown in:\n",
      "    https://scikit-learn.org/stable/modules/preprocessing.html\n",
      "  self.n_iter_ = _check_optimize_result(\"lbfgs\", opt_res, self.max_iter)\n"
     ]
    }
   ],
   "source": [
    "# Hyper-parameter tuning via cross-validation for scikit-learn estimators\n",
    "\n",
    "# initial model object\n",
    "nn_init = MLPRegressor(\n",
    "    hidden_layer_sizes=10,\n",
    "    activation='logistic',\n",
    "    solver='lbfgs',\n",
    "    alpha=0.01,\n",
    "    max_iter = 1000\n",
    ")\n",
    "\n",
    "\n",
    "# 5 fold CV\n",
    "\n",
    "np.random.seed(456)\n",
    "n_folds = 5\n",
    "kf = KFold(n_splits=n_folds,shuffle=True)\n",
    "\n",
    "# matrix of mses\n",
    "# rows - folds\n",
    "# columns - hyperparameter configurations\n",
    "mses = np.empty((n_folds,len(alphas)*len(sizes)))\n",
    "\n",
    "\n",
    "for i,(train_index,test_index) in enumerate(kf.split(X)):\n",
    "    # outer for loop is over fold: different train-test-splits\n",
    "    for j,(alpha,size) in enumerate(configs):\n",
    "        # inner loop is over different hyperparameter configurations\n",
    "        \n",
    "        # create new model by clonining the initial object with the specified hyperparameters\n",
    "        nn_fold = clone(nn_init).set_params(alpha=alpha,hidden_layer_sizes=size)\n",
    "        \n",
    "        # fit model on training split\n",
    "        _ = nn_fold.fit(X[train_index,:],y[train_index])\n",
    "        \n",
    "        # compute test predictions\n",
    "        y_test_pred = nn_fold.predict(X[test_index,:])\n",
    "        # compute metric-mean-squared error\n",
    "        mses[i,j] = mean_squared_error(y[test_index],y_test_pred)"
   ]
  },
  {
   "cell_type": "code",
   "execution_count": 19,
   "metadata": {},
   "outputs": [
    {
     "name": "stdout",
     "output_type": "stream",
     "text": [
      "[[ 0.096  0.097  0.047  0.052  0.118  0.079  0.059  0.059  0.128  0.106  0.106  0.105]\n",
      " [ 0.127  0.101  0.104  0.091  0.133  0.107  0.077  0.089  0.143  0.132  0.129  0.127]\n",
      " [ 0.122  0.107  0.085  0.131  0.141  0.120  0.102  0.102  0.143  0.137  0.138  0.135]\n",
      " [ 0.119  0.115  0.078  0.147  0.141  0.126  0.110  0.119  0.147  0.147  0.145  0.148]\n",
      " [ 0.137  0.095  0.112  0.091  0.112  0.103  0.101  0.107  0.146  0.146  0.142  0.144]]\n"
     ]
    }
   ],
   "source": [
    "with np.printoptions(formatter={'float':lambda x: '%6.3f'%x},linewidth=100):\n",
    "    print(mses)"
   ]
  },
  {
   "cell_type": "code",
   "execution_count": 20,
   "metadata": {},
   "outputs": [
    {
     "name": "stdout",
     "output_type": "stream",
     "text": [
      "[ 0.120  0.103  0.085  0.102  0.129  0.107  0.090  0.095  0.142  0.134  0.132  0.132]\n"
     ]
    }
   ],
   "source": [
    "mse_cv = mses.mean(axis=0)\n",
    "\n",
    "with np.printoptions(formatter={'float':lambda x: '%6.3f'%x},linewidth=100):\n",
    "    print(mse_cv)"
   ]
  },
  {
   "cell_type": "code",
   "execution_count": 21,
   "metadata": {},
   "outputs": [
    {
     "name": "stdout",
     "output_type": "stream",
     "text": [
      "[ 0.880  0.897  0.915  0.898  0.871  0.893  0.910  0.905  0.858  0.866  0.868  0.868]\n"
     ]
    }
   ],
   "source": [
    "mse_cv = mses.mean(axis=0)\n",
    "r2_cv = 1-mse_cv/y.var() # convert mean-squared error to R2\n",
    "\n",
    "with np.printoptions(formatter={'float':lambda x: '%6.3f'%x},linewidth=100):\n",
    "    print(r2_cv)"
   ]
  },
  {
   "cell_type": "code",
   "execution_count": 22,
   "metadata": {},
   "outputs": [
    {
     "data": {
      "text/html": [
       "<div>\n",
       "<style scoped>\n",
       "    .dataframe tbody tr th:only-of-type {\n",
       "        vertical-align: middle;\n",
       "    }\n",
       "\n",
       "    .dataframe tbody tr th {\n",
       "        vertical-align: top;\n",
       "    }\n",
       "\n",
       "    .dataframe thead th {\n",
       "        text-align: right;\n",
       "    }\n",
       "</style>\n",
       "<table border=\"1\" class=\"dataframe\">\n",
       "  <thead>\n",
       "    <tr style=\"text-align: right;\">\n",
       "      <th></th>\n",
       "      <th>alpha</th>\n",
       "      <th>size</th>\n",
       "      <th>r2_cv</th>\n",
       "    </tr>\n",
       "  </thead>\n",
       "  <tbody>\n",
       "    <tr>\n",
       "      <td>2</td>\n",
       "      <td>0.01</td>\n",
       "      <td>20</td>\n",
       "      <td>0.915</td>\n",
       "    </tr>\n",
       "    <tr>\n",
       "      <td>6</td>\n",
       "      <td>0.10</td>\n",
       "      <td>20</td>\n",
       "      <td>0.910</td>\n",
       "    </tr>\n",
       "    <tr>\n",
       "      <td>7</td>\n",
       "      <td>0.10</td>\n",
       "      <td>30</td>\n",
       "      <td>0.905</td>\n",
       "    </tr>\n",
       "    <tr>\n",
       "      <td>3</td>\n",
       "      <td>0.01</td>\n",
       "      <td>30</td>\n",
       "      <td>0.898</td>\n",
       "    </tr>\n",
       "    <tr>\n",
       "      <td>1</td>\n",
       "      <td>0.01</td>\n",
       "      <td>10</td>\n",
       "      <td>0.897</td>\n",
       "    </tr>\n",
       "    <tr>\n",
       "      <td>5</td>\n",
       "      <td>0.10</td>\n",
       "      <td>10</td>\n",
       "      <td>0.893</td>\n",
       "    </tr>\n",
       "    <tr>\n",
       "      <td>0</td>\n",
       "      <td>0.01</td>\n",
       "      <td>5</td>\n",
       "      <td>0.880</td>\n",
       "    </tr>\n",
       "    <tr>\n",
       "      <td>4</td>\n",
       "      <td>0.10</td>\n",
       "      <td>5</td>\n",
       "      <td>0.871</td>\n",
       "    </tr>\n",
       "    <tr>\n",
       "      <td>10</td>\n",
       "      <td>1.00</td>\n",
       "      <td>20</td>\n",
       "      <td>0.868</td>\n",
       "    </tr>\n",
       "    <tr>\n",
       "      <td>11</td>\n",
       "      <td>1.00</td>\n",
       "      <td>30</td>\n",
       "      <td>0.868</td>\n",
       "    </tr>\n",
       "    <tr>\n",
       "      <td>9</td>\n",
       "      <td>1.00</td>\n",
       "      <td>10</td>\n",
       "      <td>0.866</td>\n",
       "    </tr>\n",
       "    <tr>\n",
       "      <td>8</td>\n",
       "      <td>1.00</td>\n",
       "      <td>5</td>\n",
       "      <td>0.858</td>\n",
       "    </tr>\n",
       "  </tbody>\n",
       "</table>\n",
       "</div>"
      ],
      "text/plain": [
       "    alpha  size  r2_cv\n",
       "2    0.01    20  0.915\n",
       "6    0.10    20  0.910\n",
       "7    0.10    30  0.905\n",
       "3    0.01    30  0.898\n",
       "1    0.01    10  0.897\n",
       "5    0.10    10  0.893\n",
       "0    0.01     5  0.880\n",
       "4    0.10     5  0.871\n",
       "10   1.00    20  0.868\n",
       "11   1.00    30  0.868\n",
       "9    1.00    10  0.866\n",
       "8    1.00     5  0.858"
      ]
     },
     "execution_count": 22,
     "metadata": {},
     "output_type": "execute_result"
    }
   ],
   "source": [
    "r2_cv_formatted = pd.DataFrame([{\n",
    "    'alpha':configs[i][0],'size':configs[i][1],\n",
    "    'r2_cv':r2_cv[i]\n",
    "} for i in range(len(configs))])\n",
    "r2_cv_formatted.round(3).sort_values('r2_cv',ascending=False)"
   ]
  },
  {
   "cell_type": "code",
   "execution_count": 23,
   "metadata": {},
   "outputs": [
    {
     "data": {
      "text/plain": [
       "(0.01, 20)"
      ]
     },
     "execution_count": 23,
     "metadata": {},
     "output_type": "execute_result"
    }
   ],
   "source": [
    "# best configuration\n",
    "idx_best = r2_cv.argmax()\n",
    "configs[idx_best]"
   ]
  },
  {
   "cell_type": "markdown",
   "metadata": {},
   "source": [
    "### Final model"
   ]
  },
  {
   "cell_type": "code",
   "execution_count": 24,
   "metadata": {},
   "outputs": [
    {
     "name": "stdout",
     "output_type": "stream",
     "text": [
      "Training R2: 0.965\n"
     ]
    },
    {
     "name": "stderr",
     "output_type": "stream",
     "text": [
      "/Users/surajys/opt/anaconda3/lib/python3.7/site-packages/sklearn/neural_network/_multilayer_perceptron.py:500: ConvergenceWarning: lbfgs failed to converge (status=1):\n",
      "STOP: TOTAL NO. of ITERATIONS REACHED LIMIT.\n",
      "\n",
      "Increase the number of iterations (max_iter) or scale the data as shown in:\n",
      "    https://scikit-learn.org/stable/modules/preprocessing.html\n",
      "  self.n_iter_ = _check_optimize_result(\"lbfgs\", opt_res, self.max_iter)\n"
     ]
    }
   ],
   "source": [
    "# define a neural network model\n",
    "nn_final = clone(nn_init).set_params(alpha=0.01,hidden_layer_sizes=20)\n",
    "\n",
    "# fit model\n",
    "_ = nn_final.fit(X,y)\n",
    "\n",
    "# computing predictions on training set\n",
    "y_pred = nn_final.predict(X)\n",
    "# residuals\n",
    "e = y-y_pred\n",
    "\n",
    "# training metrics\n",
    "training_r2 = 1 - np.sum(e**2)/np.sum(y**2)\n",
    "print('Training R2: %.3f'%training_r2)"
   ]
  },
  {
   "cell_type": "markdown",
   "metadata": {},
   "source": [
    "### Grid-search via scikit-learn\n",
    "\n",
    "Scikit-learn provides a convenient class for performing grid search - `GridSearchCV` and fitting the final model in one go."
   ]
  },
  {
   "cell_type": "code",
   "execution_count": 25,
   "metadata": {},
   "outputs": [],
   "source": [
    "from sklearn.model_selection import GridSearchCV"
   ]
  },
  {
   "cell_type": "code",
   "execution_count": 26,
   "metadata": {
    "scrolled": true
   },
   "outputs": [
    {
     "name": "stderr",
     "output_type": "stream",
     "text": [
      "/Users/surajys/opt/anaconda3/lib/python3.7/site-packages/sklearn/neural_network/_multilayer_perceptron.py:500: ConvergenceWarning: lbfgs failed to converge (status=1):\n",
      "STOP: TOTAL NO. of ITERATIONS REACHED LIMIT.\n",
      "\n",
      "Increase the number of iterations (max_iter) or scale the data as shown in:\n",
      "    https://scikit-learn.org/stable/modules/preprocessing.html\n",
      "  self.n_iter_ = _check_optimize_result(\"lbfgs\", opt_res, self.max_iter)\n",
      "/Users/surajys/opt/anaconda3/lib/python3.7/site-packages/sklearn/neural_network/_multilayer_perceptron.py:500: ConvergenceWarning: lbfgs failed to converge (status=1):\n",
      "STOP: TOTAL NO. of ITERATIONS REACHED LIMIT.\n",
      "\n",
      "Increase the number of iterations (max_iter) or scale the data as shown in:\n",
      "    https://scikit-learn.org/stable/modules/preprocessing.html\n",
      "  self.n_iter_ = _check_optimize_result(\"lbfgs\", opt_res, self.max_iter)\n",
      "/Users/surajys/opt/anaconda3/lib/python3.7/site-packages/sklearn/neural_network/_multilayer_perceptron.py:500: ConvergenceWarning: lbfgs failed to converge (status=1):\n",
      "STOP: TOTAL NO. of ITERATIONS REACHED LIMIT.\n",
      "\n",
      "Increase the number of iterations (max_iter) or scale the data as shown in:\n",
      "    https://scikit-learn.org/stable/modules/preprocessing.html\n",
      "  self.n_iter_ = _check_optimize_result(\"lbfgs\", opt_res, self.max_iter)\n",
      "/Users/surajys/opt/anaconda3/lib/python3.7/site-packages/sklearn/neural_network/_multilayer_perceptron.py:500: ConvergenceWarning: lbfgs failed to converge (status=1):\n",
      "STOP: TOTAL NO. of ITERATIONS REACHED LIMIT.\n",
      "\n",
      "Increase the number of iterations (max_iter) or scale the data as shown in:\n",
      "    https://scikit-learn.org/stable/modules/preprocessing.html\n",
      "  self.n_iter_ = _check_optimize_result(\"lbfgs\", opt_res, self.max_iter)\n",
      "/Users/surajys/opt/anaconda3/lib/python3.7/site-packages/sklearn/neural_network/_multilayer_perceptron.py:500: ConvergenceWarning: lbfgs failed to converge (status=1):\n",
      "STOP: TOTAL NO. of ITERATIONS REACHED LIMIT.\n",
      "\n",
      "Increase the number of iterations (max_iter) or scale the data as shown in:\n",
      "    https://scikit-learn.org/stable/modules/preprocessing.html\n",
      "  self.n_iter_ = _check_optimize_result(\"lbfgs\", opt_res, self.max_iter)\n",
      "/Users/surajys/opt/anaconda3/lib/python3.7/site-packages/sklearn/neural_network/_multilayer_perceptron.py:500: ConvergenceWarning: lbfgs failed to converge (status=1):\n",
      "STOP: TOTAL NO. of ITERATIONS REACHED LIMIT.\n",
      "\n",
      "Increase the number of iterations (max_iter) or scale the data as shown in:\n",
      "    https://scikit-learn.org/stable/modules/preprocessing.html\n",
      "  self.n_iter_ = _check_optimize_result(\"lbfgs\", opt_res, self.max_iter)\n",
      "/Users/surajys/opt/anaconda3/lib/python3.7/site-packages/sklearn/neural_network/_multilayer_perceptron.py:500: ConvergenceWarning: lbfgs failed to converge (status=1):\n",
      "STOP: TOTAL NO. of ITERATIONS REACHED LIMIT.\n",
      "\n",
      "Increase the number of iterations (max_iter) or scale the data as shown in:\n",
      "    https://scikit-learn.org/stable/modules/preprocessing.html\n",
      "  self.n_iter_ = _check_optimize_result(\"lbfgs\", opt_res, self.max_iter)\n",
      "/Users/surajys/opt/anaconda3/lib/python3.7/site-packages/sklearn/neural_network/_multilayer_perceptron.py:500: ConvergenceWarning: lbfgs failed to converge (status=1):\n",
      "STOP: TOTAL NO. of ITERATIONS REACHED LIMIT.\n",
      "\n",
      "Increase the number of iterations (max_iter) or scale the data as shown in:\n",
      "    https://scikit-learn.org/stable/modules/preprocessing.html\n",
      "  self.n_iter_ = _check_optimize_result(\"lbfgs\", opt_res, self.max_iter)\n",
      "/Users/surajys/opt/anaconda3/lib/python3.7/site-packages/sklearn/neural_network/_multilayer_perceptron.py:500: ConvergenceWarning: lbfgs failed to converge (status=1):\n",
      "STOP: TOTAL NO. of ITERATIONS REACHED LIMIT.\n",
      "\n",
      "Increase the number of iterations (max_iter) or scale the data as shown in:\n",
      "    https://scikit-learn.org/stable/modules/preprocessing.html\n",
      "  self.n_iter_ = _check_optimize_result(\"lbfgs\", opt_res, self.max_iter)\n",
      "/Users/surajys/opt/anaconda3/lib/python3.7/site-packages/sklearn/neural_network/_multilayer_perceptron.py:500: ConvergenceWarning: lbfgs failed to converge (status=1):\n",
      "STOP: TOTAL NO. of ITERATIONS REACHED LIMIT.\n",
      "\n",
      "Increase the number of iterations (max_iter) or scale the data as shown in:\n",
      "    https://scikit-learn.org/stable/modules/preprocessing.html\n",
      "  self.n_iter_ = _check_optimize_result(\"lbfgs\", opt_res, self.max_iter)\n",
      "/Users/surajys/opt/anaconda3/lib/python3.7/site-packages/sklearn/neural_network/_multilayer_perceptron.py:500: ConvergenceWarning: lbfgs failed to converge (status=1):\n",
      "STOP: TOTAL NO. of ITERATIONS REACHED LIMIT.\n",
      "\n",
      "Increase the number of iterations (max_iter) or scale the data as shown in:\n",
      "    https://scikit-learn.org/stable/modules/preprocessing.html\n",
      "  self.n_iter_ = _check_optimize_result(\"lbfgs\", opt_res, self.max_iter)\n",
      "/Users/surajys/opt/anaconda3/lib/python3.7/site-packages/sklearn/neural_network/_multilayer_perceptron.py:500: ConvergenceWarning: lbfgs failed to converge (status=1):\n",
      "STOP: TOTAL NO. of ITERATIONS REACHED LIMIT.\n",
      "\n",
      "Increase the number of iterations (max_iter) or scale the data as shown in:\n",
      "    https://scikit-learn.org/stable/modules/preprocessing.html\n",
      "  self.n_iter_ = _check_optimize_result(\"lbfgs\", opt_res, self.max_iter)\n",
      "/Users/surajys/opt/anaconda3/lib/python3.7/site-packages/sklearn/neural_network/_multilayer_perceptron.py:500: ConvergenceWarning: lbfgs failed to converge (status=1):\n",
      "STOP: TOTAL NO. of ITERATIONS REACHED LIMIT.\n",
      "\n",
      "Increase the number of iterations (max_iter) or scale the data as shown in:\n",
      "    https://scikit-learn.org/stable/modules/preprocessing.html\n",
      "  self.n_iter_ = _check_optimize_result(\"lbfgs\", opt_res, self.max_iter)\n",
      "/Users/surajys/opt/anaconda3/lib/python3.7/site-packages/sklearn/neural_network/_multilayer_perceptron.py:500: ConvergenceWarning: lbfgs failed to converge (status=1):\n",
      "STOP: TOTAL NO. of ITERATIONS REACHED LIMIT.\n",
      "\n",
      "Increase the number of iterations (max_iter) or scale the data as shown in:\n",
      "    https://scikit-learn.org/stable/modules/preprocessing.html\n",
      "  self.n_iter_ = _check_optimize_result(\"lbfgs\", opt_res, self.max_iter)\n",
      "/Users/surajys/opt/anaconda3/lib/python3.7/site-packages/sklearn/neural_network/_multilayer_perceptron.py:500: ConvergenceWarning: lbfgs failed to converge (status=1):\n",
      "STOP: TOTAL NO. of ITERATIONS REACHED LIMIT.\n",
      "\n",
      "Increase the number of iterations (max_iter) or scale the data as shown in:\n",
      "    https://scikit-learn.org/stable/modules/preprocessing.html\n",
      "  self.n_iter_ = _check_optimize_result(\"lbfgs\", opt_res, self.max_iter)\n",
      "/Users/surajys/opt/anaconda3/lib/python3.7/site-packages/sklearn/neural_network/_multilayer_perceptron.py:500: ConvergenceWarning: lbfgs failed to converge (status=1):\n",
      "STOP: TOTAL NO. of ITERATIONS REACHED LIMIT.\n",
      "\n",
      "Increase the number of iterations (max_iter) or scale the data as shown in:\n",
      "    https://scikit-learn.org/stable/modules/preprocessing.html\n",
      "  self.n_iter_ = _check_optimize_result(\"lbfgs\", opt_res, self.max_iter)\n",
      "/Users/surajys/opt/anaconda3/lib/python3.7/site-packages/sklearn/neural_network/_multilayer_perceptron.py:500: ConvergenceWarning: lbfgs failed to converge (status=1):\n",
      "STOP: TOTAL NO. of ITERATIONS REACHED LIMIT.\n",
      "\n",
      "Increase the number of iterations (max_iter) or scale the data as shown in:\n",
      "    https://scikit-learn.org/stable/modules/preprocessing.html\n",
      "  self.n_iter_ = _check_optimize_result(\"lbfgs\", opt_res, self.max_iter)\n",
      "/Users/surajys/opt/anaconda3/lib/python3.7/site-packages/sklearn/neural_network/_multilayer_perceptron.py:500: ConvergenceWarning: lbfgs failed to converge (status=1):\n",
      "STOP: TOTAL NO. of ITERATIONS REACHED LIMIT.\n",
      "\n",
      "Increase the number of iterations (max_iter) or scale the data as shown in:\n",
      "    https://scikit-learn.org/stable/modules/preprocessing.html\n",
      "  self.n_iter_ = _check_optimize_result(\"lbfgs\", opt_res, self.max_iter)\n",
      "/Users/surajys/opt/anaconda3/lib/python3.7/site-packages/sklearn/neural_network/_multilayer_perceptron.py:500: ConvergenceWarning: lbfgs failed to converge (status=1):\n",
      "STOP: TOTAL NO. of ITERATIONS REACHED LIMIT.\n",
      "\n",
      "Increase the number of iterations (max_iter) or scale the data as shown in:\n",
      "    https://scikit-learn.org/stable/modules/preprocessing.html\n",
      "  self.n_iter_ = _check_optimize_result(\"lbfgs\", opt_res, self.max_iter)\n",
      "/Users/surajys/opt/anaconda3/lib/python3.7/site-packages/sklearn/neural_network/_multilayer_perceptron.py:500: ConvergenceWarning: lbfgs failed to converge (status=1):\n",
      "STOP: TOTAL NO. of ITERATIONS REACHED LIMIT.\n",
      "\n",
      "Increase the number of iterations (max_iter) or scale the data as shown in:\n",
      "    https://scikit-learn.org/stable/modules/preprocessing.html\n",
      "  self.n_iter_ = _check_optimize_result(\"lbfgs\", opt_res, self.max_iter)\n"
     ]
    },
    {
     "name": "stderr",
     "output_type": "stream",
     "text": [
      "/Users/surajys/opt/anaconda3/lib/python3.7/site-packages/sklearn/neural_network/_multilayer_perceptron.py:500: ConvergenceWarning: lbfgs failed to converge (status=1):\n",
      "STOP: TOTAL NO. of ITERATIONS REACHED LIMIT.\n",
      "\n",
      "Increase the number of iterations (max_iter) or scale the data as shown in:\n",
      "    https://scikit-learn.org/stable/modules/preprocessing.html\n",
      "  self.n_iter_ = _check_optimize_result(\"lbfgs\", opt_res, self.max_iter)\n",
      "/Users/surajys/opt/anaconda3/lib/python3.7/site-packages/sklearn/neural_network/_multilayer_perceptron.py:500: ConvergenceWarning: lbfgs failed to converge (status=1):\n",
      "STOP: TOTAL NO. of ITERATIONS REACHED LIMIT.\n",
      "\n",
      "Increase the number of iterations (max_iter) or scale the data as shown in:\n",
      "    https://scikit-learn.org/stable/modules/preprocessing.html\n",
      "  self.n_iter_ = _check_optimize_result(\"lbfgs\", opt_res, self.max_iter)\n",
      "/Users/surajys/opt/anaconda3/lib/python3.7/site-packages/sklearn/neural_network/_multilayer_perceptron.py:500: ConvergenceWarning: lbfgs failed to converge (status=1):\n",
      "STOP: TOTAL NO. of ITERATIONS REACHED LIMIT.\n",
      "\n",
      "Increase the number of iterations (max_iter) or scale the data as shown in:\n",
      "    https://scikit-learn.org/stable/modules/preprocessing.html\n",
      "  self.n_iter_ = _check_optimize_result(\"lbfgs\", opt_res, self.max_iter)\n",
      "/Users/surajys/opt/anaconda3/lib/python3.7/site-packages/sklearn/neural_network/_multilayer_perceptron.py:500: ConvergenceWarning: lbfgs failed to converge (status=1):\n",
      "STOP: TOTAL NO. of ITERATIONS REACHED LIMIT.\n",
      "\n",
      "Increase the number of iterations (max_iter) or scale the data as shown in:\n",
      "    https://scikit-learn.org/stable/modules/preprocessing.html\n",
      "  self.n_iter_ = _check_optimize_result(\"lbfgs\", opt_res, self.max_iter)\n"
     ]
    },
    {
     "name": "stdout",
     "output_type": "stream",
     "text": [
      "CPU times: user 1min, sys: 23 s, total: 1min 23s\n",
      "Wall time: 19.3 s\n"
     ]
    },
    {
     "name": "stderr",
     "output_type": "stream",
     "text": [
      "/Users/surajys/opt/anaconda3/lib/python3.7/site-packages/sklearn/neural_network/_multilayer_perceptron.py:500: ConvergenceWarning: lbfgs failed to converge (status=1):\n",
      "STOP: TOTAL NO. of ITERATIONS REACHED LIMIT.\n",
      "\n",
      "Increase the number of iterations (max_iter) or scale the data as shown in:\n",
      "    https://scikit-learn.org/stable/modules/preprocessing.html\n",
      "  self.n_iter_ = _check_optimize_result(\"lbfgs\", opt_res, self.max_iter)\n"
     ]
    }
   ],
   "source": [
    "%%time \n",
    "\n",
    "np.random.seed(456)\n",
    "nn_tuned = GridSearchCV(\n",
    "    estimator=nn_init,\n",
    "    param_grid={ # dictionary containing possible values of each hyperparameter\n",
    "        'alpha':alphas,\n",
    "        'hidden_layer_sizes':sizes,\n",
    "    },\n",
    "    scoring='neg_mean_squared_error', # score (higher is better) - negative loss \n",
    "    refit=True, # whether to fit the model with the best configuration on the entire training set.\n",
    "    cv=kf, # cross-validation split generator\n",
    "    n_jobs=1, # argument for utilizing parallel cores\n",
    ").fit(X,y)"
   ]
  },
  {
   "cell_type": "code",
   "execution_count": 27,
   "metadata": {},
   "outputs": [
    {
     "data": {
      "text/plain": [
       "{'alpha': 0.1, 'hidden_layer_sizes': 20}"
      ]
     },
     "execution_count": 27,
     "metadata": {},
     "output_type": "execute_result"
    }
   ],
   "source": [
    "nn_tuned.best_params_"
   ]
  },
  {
   "cell_type": "code",
   "execution_count": 28,
   "metadata": {},
   "outputs": [
    {
     "name": "stdout",
     "output_type": "stream",
     "text": [
      "CV R2: 0.917\n"
     ]
    }
   ],
   "source": [
    "# best 5-fold CV R2\n",
    "print('CV R2: %.3f'%(1-(-nn_tuned.best_score_)/y.var()))"
   ]
  },
  {
   "cell_type": "code",
   "execution_count": 30,
   "metadata": {},
   "outputs": [
    {
     "data": {
      "text/plain": [
       "{'mean_fit_time': array([0.1686358 , 0.32370605, 0.4819665 , 0.58726764, 0.10767722,\n",
       "        0.19965701, 0.49570637, 0.62067032, 0.0798769 , 0.14392886,\n",
       "        0.21241465, 0.30485015]),\n",
       " 'std_fit_time': array([0.03994919, 0.00488291, 0.00665067, 0.00446173, 0.034005  ,\n",
       "        0.01914332, 0.01819105, 0.01525294, 0.01559987, 0.04864134,\n",
       "        0.04533696, 0.08803463]),\n",
       " 'mean_score_time': array([0.00029702, 0.00047841, 0.00066204, 0.00066824, 0.00028119,\n",
       "        0.00031824, 0.00060511, 0.00070596, 0.00036016, 0.00036907,\n",
       "        0.00038624, 0.0004046 ]),\n",
       " 'std_score_time': array([8.50509618e-06, 7.76329262e-05, 3.67756775e-05, 1.78463274e-05,\n",
       "        1.88532271e-05, 3.80835602e-05, 1.34089882e-04, 3.25823218e-05,\n",
       "        1.37620194e-05, 2.12805110e-05, 1.28277172e-05, 2.50768294e-05]),\n",
       " 'param_alpha': masked_array(data=[0.01, 0.01, 0.01, 0.01, 0.1, 0.1, 0.1, 0.1, 1, 1, 1, 1],\n",
       "              mask=[False, False, False, False, False, False, False, False,\n",
       "                    False, False, False, False],\n",
       "        fill_value='?',\n",
       "             dtype=object),\n",
       " 'param_hidden_layer_sizes': masked_array(data=[5, 10, 20, 30, 5, 10, 20, 30, 5, 10, 20, 30],\n",
       "              mask=[False, False, False, False, False, False, False, False,\n",
       "                    False, False, False, False],\n",
       "        fill_value='?',\n",
       "             dtype=object),\n",
       " 'params': [{'alpha': 0.01, 'hidden_layer_sizes': 5},\n",
       "  {'alpha': 0.01, 'hidden_layer_sizes': 10},\n",
       "  {'alpha': 0.01, 'hidden_layer_sizes': 20},\n",
       "  {'alpha': 0.01, 'hidden_layer_sizes': 30},\n",
       "  {'alpha': 0.1, 'hidden_layer_sizes': 5},\n",
       "  {'alpha': 0.1, 'hidden_layer_sizes': 10},\n",
       "  {'alpha': 0.1, 'hidden_layer_sizes': 20},\n",
       "  {'alpha': 0.1, 'hidden_layer_sizes': 30},\n",
       "  {'alpha': 1, 'hidden_layer_sizes': 5},\n",
       "  {'alpha': 1, 'hidden_layer_sizes': 10},\n",
       "  {'alpha': 1, 'hidden_layer_sizes': 20},\n",
       "  {'alpha': 1, 'hidden_layer_sizes': 30}],\n",
       " 'split0_test_score': array([-0.09615952, -0.08328813, -0.04609873, -0.05749742, -0.10265533,\n",
       "        -0.07855897, -0.05920332, -0.05845436, -0.11401305, -0.1098552 ,\n",
       "        -0.10622322, -0.10685536]),\n",
       " 'split1_test_score': array([-0.13453033, -0.09781666, -0.09934721, -0.08894381, -0.13234596,\n",
       "        -0.1027386 , -0.08696424, -0.08219643, -0.14341853, -0.13304092,\n",
       "        -0.1334175 , -0.13313603]),\n",
       " 'split2_test_score': array([-0.12719352, -0.10867969, -0.09113839, -0.13503299, -0.13662285,\n",
       "        -0.1084519 , -0.09507239, -0.09910508, -0.14425765, -0.13843051,\n",
       "        -0.13797035, -0.13712204]),\n",
       " 'split3_test_score': array([-0.13694678, -0.11708819, -0.1181025 , -0.13168061, -0.11666269,\n",
       "        -0.12395903, -0.09851888, -0.11759626, -0.15252647, -0.14645636,\n",
       "        -0.14210015, -0.1448737 ]),\n",
       " 'split4_test_score': array([-0.12829001, -0.09671425, -0.09012923, -0.09211944, -0.11713697,\n",
       "        -0.11118441, -0.07632904, -0.08860171, -0.14445501, -0.14386   ,\n",
       "        -0.13924007, -0.14383102]),\n",
       " 'mean_test_score': array([-0.12462403, -0.10071738, -0.08896321, -0.10105485, -0.12108476,\n",
       "        -0.10497858, -0.08321758, -0.08919077, -0.13973414, -0.1343286 ,\n",
       "        -0.13179026, -0.13316363]),\n",
       " 'std_test_score': array([0.01469867, 0.01148581, 0.02366593, 0.02903866, 0.01219041,\n",
       "        0.01492546, 0.01423264, 0.01948928, 0.01327812, 0.01307946,\n",
       "        0.0130867 , 0.01384712]),\n",
       " 'rank_test_score': array([ 8,  4,  2,  5,  7,  6,  1,  3, 12, 11,  9, 10], dtype=int32)}"
      ]
     },
     "execution_count": 30,
     "metadata": {},
     "output_type": "execute_result"
    }
   ],
   "source": [
    "nn_tuned.cv_results_"
   ]
  },
  {
   "cell_type": "markdown",
   "metadata": {},
   "source": [
    "The optimal regularization hyperparameter is different from earlier, and the best CV $R^2$ is slightly different. Even accounting for the same K-fold partition, there will be some randomness in the results due to random initialization of the weights of the network. "
   ]
  },
  {
   "cell_type": "code",
   "execution_count": 29,
   "metadata": {},
   "outputs": [
    {
     "name": "stdout",
     "output_type": "stream",
     "text": [
      "Training R2: 0.955\n"
     ]
    }
   ],
   "source": [
    "# computing predictions on training set\n",
    "y_pred = nn_tuned.predict(X)\n",
    "# residuals\n",
    "e = y-y_pred\n",
    "\n",
    "# training metrics\n",
    "training_r2 = 1 - np.sum(e**2)/np.sum(y**2)\n",
    "print('Training R2: %.3f'%training_r2)"
   ]
  },
  {
   "cell_type": "markdown",
   "metadata": {},
   "source": [
    "### Comparing with other models\n",
    "\n",
    "When comparing models using cross-validation, either\n",
    "\n",
    "1. use the **same** K-fold partition, if using a single replicate of K-fold\n",
    "2. perform Replicated K-fold CV\n",
    "\n",
    "\n",
    "We now compare the neural network model against a linear regression model."
   ]
  },
  {
   "cell_type": "code",
   "execution_count": 31,
   "metadata": {},
   "outputs": [],
   "source": [
    "import statsmodels.api as sm"
   ]
  },
  {
   "cell_type": "code",
   "execution_count": 32,
   "metadata": {},
   "outputs": [
    {
     "name": "stdout",
     "output_type": "stream",
     "text": [
      "5-fold CV R2 for neural network.....: 0.915\n",
      "5-fold CV R2 for linear regression..: 0.606\n"
     ]
    }
   ],
   "source": [
    "############ linear regression model ############\n",
    "mses_lm_kf = np.empty(n_folds)\n",
    "\n",
    "for i,(train_index,test_index) in enumerate(kf.split(X)):\n",
    "    \n",
    "    # fit OLS model on the entire training set excluding the current fold\n",
    "    fit_lm = sm.OLS(y[train_index],sm.add_constant(X[train_index,:])).fit()\n",
    "    \n",
    "    # obtain out-of-sample predictions for the current fold\n",
    "    y_pred_lm = fit_lm.predict(sm.add_constant(X[test_index,:]))\n",
    "    \n",
    "    # compute loss metric - mean_squared error\n",
    "    mses_lm_kf[i] = mean_squared_error(y[test_index],y_pred_lm)\n",
    "    \n",
    "    \n",
    "mse_lm_cv = mses_lm_kf.mean()\n",
    "r2_lm_cv = 1-mse_lm_cv/y.var() \n",
    "\n",
    "print('5-fold CV R2 for neural network.....: %5.3f'%r2_cv[idx_best])\n",
    "print('5-fold CV R2 for linear regression..: %5.3f'%r2_lm_cv)"
   ]
  },
  {
   "cell_type": "markdown",
   "metadata": {},
   "source": [
    "Likewise, here is the loop for performing replicated 5-fold CV. This time, we need to compute the replicated CV metric for the neural network as well, since we haven't computed it earlier."
   ]
  },
  {
   "cell_type": "code",
   "execution_count": 33,
   "metadata": {
    "scrolled": true
   },
   "outputs": [
    {
     "name": "stderr",
     "output_type": "stream",
     "text": [
      "/Users/surajys/opt/anaconda3/lib/python3.7/site-packages/sklearn/neural_network/_multilayer_perceptron.py:500: ConvergenceWarning: lbfgs failed to converge (status=1):\n",
      "STOP: TOTAL NO. of ITERATIONS REACHED LIMIT.\n",
      "\n",
      "Increase the number of iterations (max_iter) or scale the data as shown in:\n",
      "    https://scikit-learn.org/stable/modules/preprocessing.html\n",
      "  self.n_iter_ = _check_optimize_result(\"lbfgs\", opt_res, self.max_iter)\n",
      "/Users/surajys/opt/anaconda3/lib/python3.7/site-packages/sklearn/neural_network/_multilayer_perceptron.py:500: ConvergenceWarning: lbfgs failed to converge (status=1):\n",
      "STOP: TOTAL NO. of ITERATIONS REACHED LIMIT.\n",
      "\n",
      "Increase the number of iterations (max_iter) or scale the data as shown in:\n",
      "    https://scikit-learn.org/stable/modules/preprocessing.html\n",
      "  self.n_iter_ = _check_optimize_result(\"lbfgs\", opt_res, self.max_iter)\n",
      "/Users/surajys/opt/anaconda3/lib/python3.7/site-packages/sklearn/neural_network/_multilayer_perceptron.py:500: ConvergenceWarning: lbfgs failed to converge (status=1):\n",
      "STOP: TOTAL NO. of ITERATIONS REACHED LIMIT.\n",
      "\n",
      "Increase the number of iterations (max_iter) or scale the data as shown in:\n",
      "    https://scikit-learn.org/stable/modules/preprocessing.html\n",
      "  self.n_iter_ = _check_optimize_result(\"lbfgs\", opt_res, self.max_iter)\n",
      "/Users/surajys/opt/anaconda3/lib/python3.7/site-packages/sklearn/neural_network/_multilayer_perceptron.py:500: ConvergenceWarning: lbfgs failed to converge (status=1):\n",
      "STOP: TOTAL NO. of ITERATIONS REACHED LIMIT.\n",
      "\n",
      "Increase the number of iterations (max_iter) or scale the data as shown in:\n",
      "    https://scikit-learn.org/stable/modules/preprocessing.html\n",
      "  self.n_iter_ = _check_optimize_result(\"lbfgs\", opt_res, self.max_iter)\n",
      "/Users/surajys/opt/anaconda3/lib/python3.7/site-packages/sklearn/neural_network/_multilayer_perceptron.py:500: ConvergenceWarning: lbfgs failed to converge (status=1):\n",
      "STOP: TOTAL NO. of ITERATIONS REACHED LIMIT.\n",
      "\n",
      "Increase the number of iterations (max_iter) or scale the data as shown in:\n",
      "    https://scikit-learn.org/stable/modules/preprocessing.html\n",
      "  self.n_iter_ = _check_optimize_result(\"lbfgs\", opt_res, self.max_iter)\n",
      "/Users/surajys/opt/anaconda3/lib/python3.7/site-packages/sklearn/neural_network/_multilayer_perceptron.py:500: ConvergenceWarning: lbfgs failed to converge (status=1):\n",
      "STOP: TOTAL NO. of ITERATIONS REACHED LIMIT.\n",
      "\n",
      "Increase the number of iterations (max_iter) or scale the data as shown in:\n",
      "    https://scikit-learn.org/stable/modules/preprocessing.html\n",
      "  self.n_iter_ = _check_optimize_result(\"lbfgs\", opt_res, self.max_iter)\n",
      "/Users/surajys/opt/anaconda3/lib/python3.7/site-packages/sklearn/neural_network/_multilayer_perceptron.py:500: ConvergenceWarning: lbfgs failed to converge (status=1):\n",
      "STOP: TOTAL NO. of ITERATIONS REACHED LIMIT.\n",
      "\n",
      "Increase the number of iterations (max_iter) or scale the data as shown in:\n",
      "    https://scikit-learn.org/stable/modules/preprocessing.html\n",
      "  self.n_iter_ = _check_optimize_result(\"lbfgs\", opt_res, self.max_iter)\n",
      "/Users/surajys/opt/anaconda3/lib/python3.7/site-packages/sklearn/neural_network/_multilayer_perceptron.py:500: ConvergenceWarning: lbfgs failed to converge (status=1):\n",
      "STOP: TOTAL NO. of ITERATIONS REACHED LIMIT.\n",
      "\n",
      "Increase the number of iterations (max_iter) or scale the data as shown in:\n",
      "    https://scikit-learn.org/stable/modules/preprocessing.html\n",
      "  self.n_iter_ = _check_optimize_result(\"lbfgs\", opt_res, self.max_iter)\n",
      "/Users/surajys/opt/anaconda3/lib/python3.7/site-packages/sklearn/neural_network/_multilayer_perceptron.py:500: ConvergenceWarning: lbfgs failed to converge (status=1):\n",
      "STOP: TOTAL NO. of ITERATIONS REACHED LIMIT.\n",
      "\n",
      "Increase the number of iterations (max_iter) or scale the data as shown in:\n",
      "    https://scikit-learn.org/stable/modules/preprocessing.html\n",
      "  self.n_iter_ = _check_optimize_result(\"lbfgs\", opt_res, self.max_iter)\n",
      "/Users/surajys/opt/anaconda3/lib/python3.7/site-packages/sklearn/neural_network/_multilayer_perceptron.py:500: ConvergenceWarning: lbfgs failed to converge (status=1):\n",
      "STOP: TOTAL NO. of ITERATIONS REACHED LIMIT.\n",
      "\n",
      "Increase the number of iterations (max_iter) or scale the data as shown in:\n",
      "    https://scikit-learn.org/stable/modules/preprocessing.html\n",
      "  self.n_iter_ = _check_optimize_result(\"lbfgs\", opt_res, self.max_iter)\n",
      "/Users/surajys/opt/anaconda3/lib/python3.7/site-packages/sklearn/neural_network/_multilayer_perceptron.py:500: ConvergenceWarning: lbfgs failed to converge (status=1):\n",
      "STOP: TOTAL NO. of ITERATIONS REACHED LIMIT.\n",
      "\n",
      "Increase the number of iterations (max_iter) or scale the data as shown in:\n",
      "    https://scikit-learn.org/stable/modules/preprocessing.html\n",
      "  self.n_iter_ = _check_optimize_result(\"lbfgs\", opt_res, self.max_iter)\n",
      "/Users/surajys/opt/anaconda3/lib/python3.7/site-packages/sklearn/neural_network/_multilayer_perceptron.py:500: ConvergenceWarning: lbfgs failed to converge (status=1):\n",
      "STOP: TOTAL NO. of ITERATIONS REACHED LIMIT.\n",
      "\n",
      "Increase the number of iterations (max_iter) or scale the data as shown in:\n",
      "    https://scikit-learn.org/stable/modules/preprocessing.html\n",
      "  self.n_iter_ = _check_optimize_result(\"lbfgs\", opt_res, self.max_iter)\n",
      "/Users/surajys/opt/anaconda3/lib/python3.7/site-packages/sklearn/neural_network/_multilayer_perceptron.py:500: ConvergenceWarning: lbfgs failed to converge (status=1):\n",
      "STOP: TOTAL NO. of ITERATIONS REACHED LIMIT.\n",
      "\n",
      "Increase the number of iterations (max_iter) or scale the data as shown in:\n",
      "    https://scikit-learn.org/stable/modules/preprocessing.html\n",
      "  self.n_iter_ = _check_optimize_result(\"lbfgs\", opt_res, self.max_iter)\n",
      "/Users/surajys/opt/anaconda3/lib/python3.7/site-packages/sklearn/neural_network/_multilayer_perceptron.py:500: ConvergenceWarning: lbfgs failed to converge (status=1):\n",
      "STOP: TOTAL NO. of ITERATIONS REACHED LIMIT.\n",
      "\n",
      "Increase the number of iterations (max_iter) or scale the data as shown in:\n",
      "    https://scikit-learn.org/stable/modules/preprocessing.html\n",
      "  self.n_iter_ = _check_optimize_result(\"lbfgs\", opt_res, self.max_iter)\n",
      "/Users/surajys/opt/anaconda3/lib/python3.7/site-packages/sklearn/neural_network/_multilayer_perceptron.py:500: ConvergenceWarning: lbfgs failed to converge (status=1):\n",
      "STOP: TOTAL NO. of ITERATIONS REACHED LIMIT.\n",
      "\n",
      "Increase the number of iterations (max_iter) or scale the data as shown in:\n",
      "    https://scikit-learn.org/stable/modules/preprocessing.html\n",
      "  self.n_iter_ = _check_optimize_result(\"lbfgs\", opt_res, self.max_iter)\n",
      "/Users/surajys/opt/anaconda3/lib/python3.7/site-packages/sklearn/neural_network/_multilayer_perceptron.py:500: ConvergenceWarning: lbfgs failed to converge (status=1):\n",
      "STOP: TOTAL NO. of ITERATIONS REACHED LIMIT.\n",
      "\n",
      "Increase the number of iterations (max_iter) or scale the data as shown in:\n",
      "    https://scikit-learn.org/stable/modules/preprocessing.html\n",
      "  self.n_iter_ = _check_optimize_result(\"lbfgs\", opt_res, self.max_iter)\n",
      "/Users/surajys/opt/anaconda3/lib/python3.7/site-packages/sklearn/neural_network/_multilayer_perceptron.py:500: ConvergenceWarning: lbfgs failed to converge (status=1):\n",
      "STOP: TOTAL NO. of ITERATIONS REACHED LIMIT.\n",
      "\n",
      "Increase the number of iterations (max_iter) or scale the data as shown in:\n",
      "    https://scikit-learn.org/stable/modules/preprocessing.html\n",
      "  self.n_iter_ = _check_optimize_result(\"lbfgs\", opt_res, self.max_iter)\n"
     ]
    }
   ],
   "source": [
    "from sklearn.model_selection import RepeatedKFold\n",
    "\n",
    "# cross-validation measure for comparison with other models\n",
    "# 5 replicates of 5 fold cross-validation\n",
    "np.random.seed(234)\n",
    "\n",
    "n_repeats=5\n",
    "rkf = RepeatedKFold(n_splits=n_folds,n_repeats=n_repeats)\n",
    "mses_nnet_rkf = np.empty(n_folds*n_repeats)\n",
    "mses_lm_rkf = np.empty(n_folds*n_repeats)\n",
    "\n",
    "for i,(train_index,test_index) in enumerate(rkf.split(X)):\n",
    "    ############ neural network model ############\n",
    "    # create new model with the specified hyperparameters\n",
    "    nn_fold = clone(nn_init).set_params(alpha=0.1,hidden_layer_sizes=20)\n",
    "\n",
    "    # fit model on training split\n",
    "    _ = nn_fold.fit(X[train_index,:],y[train_index])\n",
    "\n",
    "    # compute test predictions\n",
    "    y_pred_nnet = nn_fold.predict(X[test_index,:])\n",
    "    # compute metric-mean-squared error\n",
    "    mses_nnet_rkf[i] = mean_squared_error(y[test_index],y_pred_nnet)\n",
    "    \n",
    "    ############ linear regression model ############\n",
    "    # fit OLM model\n",
    "    fit_lm = sm.OLS(y[train_index],sm.add_constant(X[train_index,:])).fit()\n",
    "    y_pred_lm = fit_lm.predict(sm.add_constant(X[test_index,:]))\n",
    "    mses_lm_rkf[i] = mean_squared_error(y[test_index],y_pred_lm)"
   ]
  },
  {
   "cell_type": "code",
   "execution_count": 35,
   "metadata": {},
   "outputs": [
    {
     "name": "stdout",
     "output_type": "stream",
     "text": [
      "Replicated 5-fold CV R2 for neural network.....: 0.907\n",
      "Replicated 5-fold CV R2 for linear regression..: 0.607\n"
     ]
    }
   ],
   "source": [
    "mse_nnet_cv = mses_nnet_rkf.mean()\n",
    "mse_lm_cv = mses_lm_rkf.mean()\n",
    "\n",
    "r2_nnet_cv = 1-mse_nnet_cv/y.var()\n",
    "r2_lm_cv = 1-mse_lm_cv/y.var()\n",
    "\n",
    "print('Replicated 5-fold CV R2 for neural network.....: %5.3f'%r2_nnet_cv)\n",
    "print('Replicated 5-fold CV R2 for linear regression..: %5.3f'%r2_lm_cv)"
   ]
  },
  {
   "cell_type": "markdown",
   "metadata": {},
   "source": [
    "## Saving models and other objects"
   ]
  },
  {
   "cell_type": "code",
   "execution_count": 36,
   "metadata": {},
   "outputs": [],
   "source": [
    "import joblib"
   ]
  },
  {
   "cell_type": "code",
   "execution_count": 37,
   "metadata": {},
   "outputs": [],
   "source": [
    "# joblib save model\n",
    "_ = joblib.dump(nn_final,'crt_nnet_final.pkl')"
   ]
  },
  {
   "cell_type": "code",
   "execution_count": 38,
   "metadata": {},
   "outputs": [
    {
     "data": {
      "text/plain": [
       "MLPRegressor(activation='logistic', alpha=0.01, hidden_layer_sizes=20,\n",
       "             max_iter=1000, solver='lbfgs')"
      ]
     },
     "execution_count": 38,
     "metadata": {},
     "output_type": "execute_result"
    }
   ],
   "source": [
    "# joblib.load\n",
    "nn_final2 = joblib.load('crt_nnet_final.pkl')\n",
    "nn_final2"
   ]
  },
  {
   "cell_type": "code",
   "execution_count": 39,
   "metadata": {},
   "outputs": [
    {
     "data": {
      "text/plain": [
       "array([ 2.22299863,  2.12297138,  0.28754147, ..., -0.61227563,\n",
       "       -0.21776775, -0.05326725])"
      ]
     },
     "execution_count": 39,
     "metadata": {},
     "output_type": "execute_result"
    }
   ],
   "source": [
    "nn_final2.predict(X)"
   ]
  },
  {
   "cell_type": "code",
   "execution_count": 40,
   "metadata": {},
   "outputs": [
    {
     "data": {
      "text/plain": [
       "array([ 2.22299863,  2.12297138,  0.28754147, ..., -0.61227563,\n",
       "       -0.21776775, -0.05326725])"
      ]
     },
     "execution_count": 40,
     "metadata": {},
     "output_type": "execute_result"
    }
   ],
   "source": [
    "nn_final.predict(X)"
   ]
  },
  {
   "cell_type": "code",
   "execution_count": null,
   "metadata": {},
   "outputs": [],
   "source": []
  }
 ],
 "metadata": {
  "kernelspec": {
   "display_name": "msia420-2",
   "language": "python",
   "name": "msia420-2"
  },
  "language_info": {
   "codemirror_mode": {
    "name": "ipython",
    "version": 3
   },
   "file_extension": ".py",
   "mimetype": "text/x-python",
   "name": "python",
   "nbconvert_exporter": "python",
   "pygments_lexer": "ipython3",
   "version": "3.7.4"
  }
 },
 "nbformat": 4,
 "nbformat_minor": 2
}
